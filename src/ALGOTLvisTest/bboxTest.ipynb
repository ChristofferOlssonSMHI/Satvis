{
 "cells": [
  {
   "cell_type": "code",
   "execution_count": 3,
   "metadata": {},
   "outputs": [],
   "source": [
    "import geopandas as gpd\n",
    "from shapely.geometry import Point"
   ]
  },
  {
   "cell_type": "code",
   "execution_count": null,
   "metadata": {},
   "outputs": [
    {
     "data": {
      "text/plain": [
       "<Axes: >"
      ]
     },
     "metadata": {},
     "output_type": "display_data"
    },
    {
     "data": {
      "image/png": "[encoded data removed]",
      "text/plain": [
       "<Figure size 640x480 with 1 Axes>"
      ]
     },
     "metadata": {},
     "output_type": "display_data"
    }
   ],
   "source": [
    "# Generate some sample data \n",
    "p1 = Point((1,2))\n",
    "p2 = Point((6,8))\n",
    "points = gpd.GeoSeries([p1,p2])\n",
    "\n",
    "# Buffer the points using a square cap style\n",
    "# Note cap_style: round = 1, flat = 2, square = 3\n",
    "buffer = points.buffer(2, cap_style = 3)\n",
    "\n",
    "# Plot the results\n",
    "fig, ax1 = plt.subplots()\n",
    "buffer.boundary.plot(ax=ax1, color = 'slategrey')\n",
    "points.plot(ax = ax1, color = 'red')"
   ]
  },
  {
   "cell_type": "code",
   "execution_count": null,
   "metadata": {},
   "outputs": [],
   "source": [
    "algotltest_full = AreaDefinition.from_area_of_interest(area_id=\"algotltest_full\", projection='epsg:3006', shape=[20000, 18000], center=[720573.556, 6371774.759], resolution=[10, 10])"
   ]
  },
  {
   "cell_type": "code",
   "execution_count": 2,
   "metadata": {},
   "outputs": [],
   "source": [
    "# 20000x18000, center=[720573.556, 6371774.759]\n",
    "c_x = 720573.556\n",
    "c_y = 6371774.759\n",
    "ll_x = 630573.556\n",
    "ll_y = 6271774.759\n",
    "ur_x = 810573.556\n",
    "ur_y = 6471774.759\n",
    "\n",
    "c = Point(c_x, c_y)\n",
    "ll = Point((ll_x, ll_y))\n",
    "ul = Point((ll_x, ur_y))\n",
    "lr = Point((ur_x, ll_y))\n",
    "ur = Point((ur_x, ur_y))\n",
    "# print('GEOMETRYCOLLECTION(' + str(ll) + ',', str(ul) + ',', str(lr) + ',', str(ur) + ')')"
   ]
  },
  {
   "cell_type": "code",
   "execution_count": 4,
   "metadata": {},
   "outputs": [],
   "source": [
    "area_gdf = gpd.GeoDataFrame({'geometry': [c]}, crs='EPSG:3006')"
   ]
  },
  {
   "cell_type": "code",
   "execution_count": 5,
   "metadata": {},
   "outputs": [
    {
     "data": {
      "text/html": [
       "<div>\n",
       "<style scoped>\n",
       "    .dataframe tbody tr th:only-of-type {\n",
       "        vertical-align: middle;\n",
       "    }\n",
       "\n",
       "    .dataframe tbody tr th {\n",
       "        vertical-align: top;\n",
       "    }\n",
       "\n",
       "    .dataframe thead th {\n",
       "        text-align: right;\n",
       "    }\n",
       "</style>\n",
       "<table border=\"1\" class=\"dataframe\">\n",
       "  <thead>\n",
       "    <tr style=\"text-align: right;\">\n",
       "      <th></th>\n",
       "      <th>geometry</th>\n",
       "    </tr>\n",
       "  </thead>\n",
       "  <tbody>\n",
       "    <tr>\n",
       "      <th>0</th>\n",
       "      <td>POINT (18.67500 57.43500)</td>\n",
       "    </tr>\n",
       "  </tbody>\n",
       "</table>\n",
       "</div>"
      ],
      "text/plain": [
       "                    geometry\n",
       "0  POINT (18.67500 57.43500)"
      ]
     },
     "execution_count": 5,
     "metadata": {},
     "output_type": "execute_result"
    }
   ],
   "source": [
    "area_gdf.to_crs(epsg=4326)"
   ]
  },
  {
   "cell_type": "code",
   "execution_count": null,
   "metadata": {},
   "outputs": [
    {
     "name": "stdout",
     "output_type": "stream",
     "text": [
      "POLYGON((630573.556 6271774.759, 630573.556 6471774.759, 810573.556 6471774.759, 810573.556 6271774.759, 630573.556 6271774.759))\n"
     ]
    }
   ],
   "source": [
    "print('POLYGON((' + str(ll_x), str(ll_y) + ',', str(ll_x), str(ur_y) + ',', str(ur_x), str(ur_y) + ',', str(ur_x), str(ll_y) + ',', str(ll_x), str(ll_y) + '))')"
   ]
  },
  {
   "cell_type": "code",
   "execution_count": null,
   "metadata": {},
   "outputs": [],
   "source": [
    "algotl_ll = (626573.556, 6267224.759, 725573.556, 6377224.759)\n",
    "algotl_ul = (626573.556, 6366324.759, 725573.556, 6476324.759)\n",
    "algotl_ur = (715573.556, 6366324.759, 814573.556, 6476324.759)\n",
    "algotl_lr = (715573.556, 6267224.759, 814573.556, 6377224.759)\n",
    "algotl_list = [algotl_ll, algotl_ul, algotl_ur, algotl_lr]"
   ]
  },
  {
   "cell_type": "code",
   "execution_count": null,
   "metadata": {},
   "outputs": [
    {
     "name": "stdout",
     "output_type": "stream",
     "text": [
      "POLYGON((626573.556, 6267224.759), (626573.556, 6377224.759), (725573.556, 6377224.759), (725573.556, 6267224.759), (626573.556, 6267224.759))\n",
      "POLYGON((626573.556, 6366324.759), (626573.556, 6476324.759), (725573.556, 6476324.759), (725573.556, 6366324.759), (626573.556, 6366324.759))\n",
      "POLYGON((715573.556, 6366324.759), (715573.556, 6476324.759), (814573.556, 6476324.759), (814573.556, 6366324.759), (715573.556, 6366324.759))\n",
      "POLYGON((715573.556, 6267224.759), (715573.556, 6377224.759), (814573.556, 6377224.759), (814573.556, 6267224.759), (715573.556, 6267224.759))\n"
     ]
    }
   ],
   "source": [
    "for item in algotl_list:\n",
    "    ll_x, ll_y, ur_x, ur_y,  = item\n",
    "    print('POLYGON((' + str(ll_x) + ',', str(ll_y) + '), (' + str(ll_x) + ',', str(ur_y) + '), (' + str(ur_x) + ',', str(ur_y) + '), (' + str(ur_x) + ',', str(ll_y) + '), (' + str(ll_x) + ',', str(ll_y) + '))')\n",
    "    # print('POLYGON((' + str(ll_x), str(ll_y) + ',', str(ll_x), str(ur_y) + ',', str(ur_x), str(ur_y) + ',', str(ur_x), str(ll_y) + ',', str(ll_x), str(ll_y) + '))')\n",
    "# GEOMETRYCOLLECTION(POLYGON((626573.556 6267224.759, 626573.556 6377224.759, 725573.556 6377224.759, 725573.556 6267224.759, 626573.556 6267224.759)), POLYGON((626573.556 6366324.759, 626573.556 6476324.759, 725573.556 6476324.759, 725573.556 6366324.759, 626573.556 6366324.759)), POLYGON((715573.556 6366324.759, 715573.556 6476324.759, 814573.556 6476324.759, 814573.556 6366324.759, 715573.556 6366324.759)), POLYGON((715573.556 6267224.759, 715573.556 6377224.759, 814573.556 6377224.759, 814573.556 6267224.759, 715573.556 6267224.759)))"
   ]
  },
  {
   "cell_type": "code",
   "execution_count": null,
   "metadata": {},
   "outputs": [],
   "source": [
    "al_ll = Polygon(((626573.556, 6267224.759), (626573.556, 6377224.759), (725573.556, 6377224.759), (725573.556, 6267224.759), (626573.556, 6267224.759)))\n",
    "al_ul = Polygon(((626573.556, 6366324.759), (626573.556, 6476324.759), (725573.556, 6476324.759), (725573.556, 6366324.759), (626573.556, 6366324.759)))\n",
    "al_ur = Polygon(((715573.556, 6366324.759), (715573.556, 6476324.759), (814573.556, 6476324.759), (814573.556, 6366324.759), (715573.556, 6366324.759)))\n",
    "al_lr = Polygon(((715573.556, 6267224.759), (715573.556, 6377224.759), (814573.556, 6377224.759), (814573.556, 6267224.759), (715573.556, 6267224.759)))"
   ]
  },
  {
   "cell_type": "code",
   "execution_count": null,
   "metadata": {},
   "outputs": [],
   "source": [
    "area_gdf = gpd.GeoDataFrame({'geometry': [al_ll, al_ul, al_ur, al_lr]}, crs='EPSG:3006')"
   ]
  },
  {
   "cell_type": "code",
   "execution_count": null,
   "metadata": {},
   "outputs": [],
   "source": [
    "pd.set_option('max_colwidth', 999)"
   ]
  },
  {
   "cell_type": "code",
   "execution_count": null,
   "metadata": {},
   "outputs": [
    {
     "name": "stdout",
     "output_type": "stream",
     "text": [
      "                                                                                                                             geometry\n",
      "0  POLYGON ((626573.556 6267224.759, 626573.556 6377224.759, 725573.556 6377224.759, 725573.556 6267224.759, 626573.556 6267224.759))\n",
      "1  POLYGON ((626573.556 6366324.759, 626573.556 6476324.759, 725573.556 6476324.759, 725573.556 6366324.759, 626573.556 6366324.759))\n",
      "2  POLYGON ((715573.556 6366324.759, 715573.556 6476324.759, 814573.556 6476324.759, 814573.556 6366324.759, 715573.556 6366324.759))\n",
      "3  POLYGON ((715573.556 6267224.759, 715573.556 6377224.759, 814573.556 6377224.759, 814573.556 6267224.759, 715573.556 6267224.759))\n"
     ]
    }
   ],
   "source": [
    "print(area_gdf)"
   ]
  }
 ],
 "metadata": {
  "kernelspec": {
   "display_name": "ALGOTLvisTest",
   "language": "python",
   "name": "algotlvistest"
  },
  "language_info": {
   "codemirror_mode": {
    "name": "ipython",
    "version": 3
   },
   "file_extension": ".py",
   "mimetype": "text/x-python",
   "name": "python",
   "nbconvert_exporter": "python",
   "pygments_lexer": "ipython3",
   "version": "3.11.9"
  }
 },
 "nbformat": 4,
 "nbformat_minor": 2
}
