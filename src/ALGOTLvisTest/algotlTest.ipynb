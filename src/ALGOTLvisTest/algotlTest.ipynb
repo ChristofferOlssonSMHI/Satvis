{
 "cells": [
  {
   "cell_type": "code",
   "execution_count": 1,
   "metadata": {
    "metadata": {}
   },
   "outputs": [
    {
     "name": "stderr",
     "output_type": "stream",
     "text": [
      "ERROR 1: PROJ: proj_create_from_database: Open of /home/janky/miniforge3/envs/ALGOTLvisTest/share/proj failed\n"
     ]
    }
   ],
   "source": [
    "import dask.array as ds\n",
    "import dask\n",
    "import os\n",
    "from satpy import Scene, MultiScene, find_files_and_readers\n",
    "from satpy.composites import GenericCompositor\n",
    "from satpy.writers import to_image\n",
    "from trollimage.colormap import spectral\n",
    "from pyresample.geometry import AreaDefinition\n",
    "import yaml\n",
    "import cartopy\n",
    "from glob import glob\n",
    "import xarray as xr"
   ]
  },
  {
   "cell_type": "code",
   "execution_count": 2,
   "metadata": {},
   "outputs": [],
   "source": [
    "import pandas as pd\n",
    "import geopandas as gpd\n",
    "from shapely.geometry import Point, Polygon\n",
    "import matplotlib.pyplot as plt"
   ]
  },
  {
   "cell_type": "code",
   "execution_count": null,
   "metadata": {},
   "outputs": [],
   "source": [
    "from dask.distributed import Client\n",
    "client = Client()  # start distributed scheduler locally.\n",
    "client"
   ]
  },
  {
   "cell_type": "code",
   "execution_count": 8,
   "metadata": {},
   "outputs": [
    {
     "name": "stdout",
     "output_type": "stream",
     "text": [
      "Readers\n",
      "=======\n",
      "abi_l1b:  ok\n",
      "abi_l1b_scmi:  ok\n",
      "abi_l2_nc:  ok\n",
      "acspo:  ok\n",
      "agri_fy4a_l1:  ok\n",
      "agri_fy4b_l1:  ok\n",
      "ahi_hrit:  ok\n",
      "ahi_hsd:  ok\n",
      "ahi_l1b_gridded_bin:  ok\n",
      "ahi_l2_nc:  ok\n",
      "ami_l1b:  ok\n",
      "amsr2_l1b:  ok\n",
      "amsr2_l2:  ok\n",
      "amsr2_l2_gaasp:  ok\n",
      "amsub_l1c_aapp:  ok\n",
      "ascat_l2_soilmoisture_bufr:  cannot find module 'satpy.readers.ascat_l2_soilmoisture_bufr' (('Missing eccodes-python and/or eccodes C-library installation. Use conda to install eccodes.\\n           Error: ', ModuleNotFoundError(\"No module named 'eccodes'\")))\n",
      "atms_l1b_nc:  ok\n",
      "atms_sdr_hdf5:  ok\n",
      "avhrr_l1b_aapp:  ok\n",
      "avhrr_l1b_eps:  ok\n",
      "avhrr_l1b_gaclac:  cannot find module 'satpy.readers.avhrr_l1b_gaclac' (No module named 'pygac')\n",
      "avhrr_l1b_hrpt:  ok\n",
      "avhrr_l1c_eum_gac_fdr_nc:  ok\n",
      "caliop_l2_cloud:  cannot find module 'satpy.readers.caliop_l2_cloud' (No module named 'pyhdf')\n",
      "clavrx:  cannot find module 'satpy.readers.clavrx' (No module named 'pyhdf')\n",
      "cmsaf-claas2_l2_nc:  ok\n",
      "electrol_hrit:  ok\n",
      "epic_l1b_h5:  ok\n",
      "fci_l1c_nc:  ok\n",
      "fci_l2_nc:  ok\n",
      "generic_image:  ok\n",
      "geocat:  ok\n",
      "gerb_l2_hr_h5:  ok\n",
      "ghi_l1:  ok\n",
      "ghrsst_l2:  ok\n",
      "glm_l2:  ok\n",
      "gms5-vissr_l1b:  cannot find module 'satpy.readers.gms.gms5_vissr_l1b' (No module named 'numba')\n",
      "goci2_l2_nc:  ok\n",
      "goes-imager_hrit:  ok\n",
      "goes-imager_nc:  ok\n",
      "gpm_imerg:  ok\n",
      "grib:  cannot find module 'satpy.readers.grib' (No module named 'pygrib')\n",
      "hsaf_grib:  cannot find module 'satpy.readers.hsaf_grib' (No module named 'pygrib')\n",
      "hsaf_h5:  ok\n",
      "hy2_scat_l2b_h5:  ok\n",
      "iasi_l2:  ok\n",
      "iasi_l2_cdr_nc:  ok\n",
      "iasi_l2_so2_bufr:  cannot find module 'satpy.readers.iasi_l2_so2_bufr' (('Missing eccodes-python and/or eccodes C-library installation. Use conda to install eccodes.\\n           Error: ', ModuleNotFoundError(\"No module named 'eccodes'\")))\n",
      "ici_l1b_nc:  ok\n",
      "insat3d_img_l1b_h5:  cannot find module 'satpy.readers.insat3d_img_l1b_h5' (No module named 'datatree' It can be installed with the xarray-datatree package.)\n",
      "jami_hrit:  ok\n",
      "li_l2_nc:  ok\n",
      "maia:  ok\n",
      "meris_nc_sen3:  ok\n",
      "mersi2_l1b:  ok\n",
      "mersi_ll_l1b:  ok\n",
      "mersi_rm_l1b:  ok\n",
      "mhs_l1c_aapp:  ok\n",
      "mimicTPW2_comp:  ok\n",
      "mirs:  ok\n",
      "modis_l1b:  cannot find module 'satpy.readers.modis_l1b' (No module named 'pyhdf')\n",
      "modis_l2:  cannot find module 'satpy.readers.modis_l2' (No module named 'pyhdf')\n",
      "modis_l3:  cannot find module 'satpy.readers.modis_l3' (No module named 'pyhdf')\n",
      "msi_safe:  ok\n",
      "msu_gsa_l1b:  ok\n",
      "mtsat2-imager_hrit:  ok\n",
      "mviri_l1b_fiduceo_nc:  ok\n",
      "mwi_l1b_nc:  ok\n",
      "mws_l1b_nc:  ok\n",
      "nucaps:  ok\n",
      "nwcsaf-geo:  ok\n",
      "nwcsaf-msg2013-hdf5:  ok\n",
      "nwcsaf-pps_nc:  ok\n",
      "oceancolorcci_l3_nc:  ok\n",
      "olci_l1b:  ok\n",
      "olci_l2:  ok\n",
      "omps_edr:  ok\n",
      "osisaf_nc:  ok\n",
      "safe_sar_l2_ocn:  ok\n",
      "sar-c_safe:  ok\n",
      "satpy_cf_nc:  ok\n",
      "scatsat1_l2b:  cannot find module 'satpy.readers.scatsat1_l2b' (cannot import name 'Dataset' from 'satpy.dataset' (/home/janky/miniforge3/envs/ALGOTLvisTest3/lib/python3.11/site-packages/satpy/dataset/__init__.py))\n",
      "seadas_l2:  cannot find module 'satpy.readers.seadas_l2' (No module named 'pyhdf')\n",
      "seviri_l1b_hrit:  ok\n",
      "seviri_l1b_icare:  cannot find module 'satpy.readers.seviri_l1b_icare' (No module named 'pyhdf')\n",
      "seviri_l1b_native:  ok\n",
      "seviri_l1b_nc:  ok\n",
      "seviri_l2_bufr:  cannot find module 'satpy.readers.seviri_l2_bufr' (Missing eccodes-python and/or eccodes C-library installation. Use conda to install eccodes)\n",
      "seviri_l2_grib:  cannot find module 'satpy.readers.seviri_l2_grib' (Missing eccodes-python and/or eccodes C-library installation. Use conda to install eccodes)\n",
      "sgli_l1b:  ok\n",
      "slstr_l1b:  ok\n",
      "smos_l2_wind:  ok\n",
      "tropomi_l2:  ok\n",
      "vaisala_gld360:  ok\n",
      "vii_l1b_nc:  ok\n",
      "vii_l2_nc:  ok\n",
      "viirs_compact:  ok\n",
      "viirs_edr:  ok\n",
      "viirs_edr_active_fires:  ok\n",
      "viirs_edr_flood:  cannot find module 'satpy.readers.viirs_edr_flood' (No module named 'pyhdf')\n",
      "viirs_l1b:  ok\n",
      "viirs_l2:  ok\n",
      "viirs_sdr:  ok\n",
      "viirs_vgac_l1c_nc:  ok\n",
      "virr_l1b:  ok\n",
      "\n",
      "Writers\n",
      "=======\n",
      "awips_tiled:  ok\n",
      "cf:  ok\n",
      "geotiff:  ok\n",
      "mitiff:  ok\n",
      "ninjogeotiff:  ok\n",
      "ninjotiff:  cannot find module 'satpy.writers.ninjotiff' (No module named 'pyninjotiff')\n",
      "simple_image:  ok\n",
      "\n",
      "Extras\n",
      "======\n",
      "cartopy:  ok\n",
      "geoviews:  No module named 'geoviews'\n",
      "\n"
     ]
    }
   ],
   "source": [
    "from satpy.utils import check_satpy\n",
    "check_satpy()"
   ]
  },
  {
   "cell_type": "code",
   "execution_count": 5,
   "metadata": {},
   "outputs": [],
   "source": [
    "from satpy.utils import debug_on\n",
    "debug_on()"
   ]
  },
  {
   "cell_type": "code",
   "execution_count": 3,
   "metadata": {
    "metadata": {}
   },
   "outputs": [
    {
     "data": {
      "text/plain": [
       "<dask.config.set at 0x7efee74ebb10>"
      ]
     },
     "execution_count": 3,
     "metadata": {},
     "output_type": "execute_result"
    }
   ],
   "source": [
    "os.environ['SATPY_DASK_CHUNK_SIZE'] = '32MiB'\n",
    "dask.config.set(num_workers=4)"
   ]
  },
  {
   "cell_type": "code",
   "execution_count": 4,
   "metadata": {
    "metadata": {}
   },
   "outputs": [],
   "source": [
    "# TODO Modularize\n",
    "with open('../../config/satvis.yaml', 'r') as f:\n",
    "    config = yaml.safe_load(f)\n",
    "\n",
    "dir_dict = config['data_directories']\n",
    "base_path = dir_dict[\"sentinel2_data\"]"
   ]
  },
  {
   "cell_type": "code",
   "execution_count": null,
   "metadata": {},
   "outputs": [],
   "source": [
    "18.67500 57.43500"
   ]
  },
  {
   "cell_type": "code",
   "execution_count": 9,
   "metadata": {},
   "outputs": [],
   "source": [
    "algotl_10 = AreaDefinition.from_area_of_interest(area_id=\"algotltest_full\", projection='epsg:3006', shape=[20000, 18000], center=[720573.556, 6371774.759], resolution=[10, 10])\n",
    "# algotl_20 = AreaDefinition.from_area_of_interest(area_id=\"algotltest_full\", projection='epsg:4326', shape=[5000, 4500], lat_0= center=[57.43500, 18.67500], resolution=[40, 40])"
   ]
  },
  {
   "cell_type": "code",
   "execution_count": null,
   "metadata": {},
   "outputs": [],
   "source": [
    "algotl_20"
   ]
  },
  {
   "cell_type": "code",
   "execution_count": 5,
   "metadata": {
    "metadata": {}
   },
   "outputs": [],
   "source": [
    "# 20000x18000, center=[720573.556, 6371774.759]\n",
    "c_x = 720573.556\n",
    "c_y = 6371774.759\n",
    "ll_x = 630573.556\n",
    "ll_y = 6271774.759\n",
    "ur_x = 810573.556\n",
    "ur_y = 6471774.759\n",
    "\n",
    "c = Point(c_x, c_y)\n",
    "ll = Point((ll_x, ll_y))\n",
    "ul = Point((ll_x, ur_y))\n",
    "lr = Point((ur_x, ll_y))\n",
    "ur = Point((ur_x, ur_y))\n",
    "# print('GEOMETRYCOLLECTION(' + str(ll) + ',', str(ul) + ',', str(lr) + ',', str(ur) + ')')"
   ]
  },
  {
   "cell_type": "code",
   "execution_count": 6,
   "metadata": {
    "metadata": {}
   },
   "outputs": [],
   "source": [
    "overlap = 0.1\n",
    "quad_width = 10000\n",
    "quad_height = 9000\n",
    "ol_x = quad_width * overlap\n",
    "ol_y = quad_height * overlap\n",
    "quad_x_ol = quad_width + ol_x\n",
    "quad_y_ol = quad_height + ol_y\n",
    "\n",
    "# p_ll_c = Point((ll_x+(c_x+ol))/2, (ll_y+(c_y+ol))/2)\n",
    "# p_ul_c = Point((ll_x+(c_x+ol))/2, (ur_y+(c_y-ol))/2)\n",
    "# p_lr_c = Point((ur_x+(c_x-ol))/2, (ll_y+(c_y+ol))/2)\n",
    "# p_ur_c = Point((ur_x+(c_x-ol))/2, (ur_y+(c_y-ol))/2)\n",
    "# print('GEOMETRYCOLLECTION(' + str(ll_c) + ',', str(ul_c) + ',', str(lr_c) + ',', str(ur_c) + ')')\n",
    "# GEOMETRYCOLLECTION(POINT (675573.556 6321774.759), POINT (675573.556 6421774.759), POINT (765573.556 6321774.759), POINT (765573.556 6421774.759))\n",
    "# GEOMETRYCOLLECTION(POINT (676073.556 6322274.759), POINT (676073.556 6421274.759), POIN1T (765073.556 6322274.759), POINT (765073.556 6421274.759))\n",
    "\n",
    "\n",
    "ll_c = [(ll_x+(c_x+ol_x))/2, (ll_y+(c_y+ol_y))/2]\n",
    "ul_c = [(ll_x+(c_x+ol_x))/2, (ur_y+(c_y-ol_y))/2]\n",
    "lr_c = [(ur_x+(c_x-ol_x))/2, (ll_y+(c_y+ol_y))/2]\n",
    "ur_c = [(ur_x+(c_x-ol_x))/2, (ur_y+(c_y-ol_y))/2]\n",
    "\n",
    "center_points = {'ll': ll_c, 'ul': ul_c, 'lr': lr_c, 'ur': ur_c}"
   ]
  },
  {
   "cell_type": "code",
   "execution_count": 7,
   "metadata": {
    "metadata": {}
   },
   "outputs": [],
   "source": [
    "algotl_quadrants = []\n",
    "for quadrant, center in center_points.items():\n",
    "    algotl_bbox = AreaDefinition.from_area_of_interest(area_id=f\"algotl_{quadrant}\", projection='epsg:3006', shape=[quad_x_ol, quad_y_ol], center=center, resolution=[10, 10])\n",
    "    algotl_quadrants.append(algotl_bbox)"
   ]
  },
  {
   "cell_type": "code",
   "execution_count": 11,
   "metadata": {},
   "outputs": [
    {
     "data": {
      "text/plain": [
       "<Projected CRS: EPSG:3006>\n",
       "Name: SWEREF99 TM\n",
       "Axis Info [cartesian]:\n",
       "- N[north]: Northing (metre)\n",
       "- E[east]: Easting (metre)\n",
       "Area of Use:\n",
       "- name: Sweden - onshore and offshore.\n",
       "- bounds: (10.03, 54.96, 24.17, 69.07)\n",
       "Coordinate Operation:\n",
       "- name: SWEREF99 TM\n",
       "- method: Transverse Mercator\n",
       "Datum: SWEREF99\n",
       "- Ellipsoid: GRS 1980\n",
       "- Prime Meridian: Greenwich"
      ]
     },
     "execution_count": 11,
     "metadata": {},
     "output_type": "execute_result"
    }
   ],
   "source": [
    "algotl_bbox.crs"
   ]
  },
  {
   "cell_type": "code",
   "execution_count": 8,
   "metadata": {
    "metadata": {}
   },
   "outputs": [],
   "source": [
    "datequad_path = '/220627/ul'\n",
    "dlist = [os.path.join(base_path + datequad_path, dir) for dir in os.listdir(base_path + datequad_path)]"
   ]
  },
  {
   "cell_type": "code",
   "execution_count": 9,
   "metadata": {
    "metadata": {}
   },
   "outputs": [
    {
     "data": {
      "text/plain": [
       "['/home/janky/Data/ALGOTL/220627/ul/6',\n",
       " '/home/janky/Data/ALGOTL/220627/ul/5',\n",
       " '/home/janky/Data/ALGOTL/220627/ul/3',\n",
       " '/home/janky/Data/ALGOTL/220627/ul/2']"
      ]
     },
     "execution_count": 9,
     "metadata": {},
     "output_type": "execute_result"
    }
   ],
   "source": [
    "dlist"
   ]
  },
  {
   "cell_type": "code",
   "execution_count": 10,
   "metadata": {
    "metadata": {}
   },
   "outputs": [
    {
     "data": {
      "text/plain": [
       "[<satpy.scene.Scene at 0x7efee730a010>,\n",
       " <satpy.scene.Scene at 0x7eff713ab910>,\n",
       " <satpy.scene.Scene at 0x7efee730d150>,\n",
       " <satpy.scene.Scene at 0x7efee6b1ac90>]"
      ]
     },
     "execution_count": 10,
     "metadata": {},
     "output_type": "execute_result"
    }
   ],
   "source": [
    "scn_list = []\n",
    "for path in dlist:\n",
    "    files = find_files_and_readers(base_dir=path, reader='msi_safe')\n",
    "    scn = Scene(filenames=files, reader='msi_safe')\n",
    "    scn_list.append(scn)\n",
    "scn_list"
   ]
  },
  {
   "cell_type": "code",
   "execution_count": null,
   "metadata": {},
   "outputs": [],
   "source": [
    "algotl_quadrants"
   ]
  },
  {
   "cell_type": "code",
   "execution_count": 11,
   "metadata": {},
   "outputs": [
    {
     "name": "stderr",
     "output_type": "stream",
     "text": [
      "/home/janky/miniforge3/envs/ALGOTLvisTest/lib/python3.11/site-packages/pyresample/kd_tree.py:1153: PerformanceWarning: Increasing number of chunks by factor of 11\n",
      "  res = blockwise(_my_index, dst_adims,\n",
      "/home/janky/miniforge3/envs/ALGOTLvisTest/lib/python3.11/site-packages/pyresample/kd_tree.py:1153: PerformanceWarning: Increasing number of chunks by factor of 11\n",
      "  res = blockwise(_my_index, dst_adims,\n",
      "/home/janky/miniforge3/envs/ALGOTLvisTest/lib/python3.11/site-packages/pyresample/kd_tree.py:1153: PerformanceWarning: Increasing number of chunks by factor of 11\n",
      "  res = blockwise(_my_index, dst_adims,\n",
      "/home/janky/miniforge3/envs/ALGOTLvisTest/lib/python3.11/site-packages/pyresample/kd_tree.py:1153: PerformanceWarning: Increasing number of chunks by factor of 17\n",
      "  res = blockwise(_my_index, dst_adims,\n",
      "/home/janky/miniforge3/envs/ALGOTLvisTest/lib/python3.11/site-packages/pyresample/kd_tree.py:1153: PerformanceWarning: Increasing number of chunks by factor of 17\n",
      "  res = blockwise(_my_index, dst_adims,\n",
      "/home/janky/miniforge3/envs/ALGOTLvisTest/lib/python3.11/site-packages/pyresample/kd_tree.py:1153: PerformanceWarning: Increasing number of chunks by factor of 17\n",
      "  res = blockwise(_my_index, dst_adims,\n"
     ]
    }
   ],
   "source": [
    "mscn = MultiScene(scn_list)\n",
    "mscn.load(['B02', 'B03', 'B04'])\n",
    "if datequad_path == '/220627/ll':\n",
    "    algotl_mscn = mscn.resample(algotl_quadrants[0])\n",
    "elif datequad_path == '/220627/ul':\n",
    "    algotl_mscn = mscn.resample(algotl_quadrants[1])\n",
    "elif datequad_path == '/220627/lr':\n",
    "    algotl_mscn = mscn.resample(algotl_quadrants[2])\n",
    "elif datequad_path == '/220627/ur':\n",
    "    algotl_mscn = mscn.resample(algotl_quadrants[3])\n",
    "else:\n",
    "    algotl_mscn = mscn.resample(algotl_quadrants[0])\n",
    "algotl_scn = algotl_mscn.blend()"
   ]
  },
  {
   "cell_type": "code",
   "execution_count": 11,
   "metadata": {},
   "outputs": [
    {
     "name": "stdout",
     "output_type": "stream",
     "text": [
      "<xarray.DataArray 'my_index-8735d939ff8fe68b00ee96991d592eff' (y: 20000,\n",
      "                                                               x: 18000)> Size: 1GB\n",
      "dask.array<where, shape=(20000, 18000), dtype=float32, chunksize=(4096, 4096), chunktype=numpy.ndarray>\n",
      "Coordinates:\n",
      "    band         int64 8B 1\n",
      "    spatial_ref  int64 8B 0\n",
      "    crs          object 8B PROJCRS[\"SWEREF99 TM\",BASEGEOGCRS[\"SWEREF99\",DATUM...\n",
      "  * y            (y) float64 160kB 6.472e+06 6.472e+06 ... 6.272e+06 6.272e+06\n",
      "  * x            (x) float64 144kB 6.306e+05 6.306e+05 ... 8.106e+05 8.106e+05\n",
      "Attributes: (12/16)\n",
      "    wavelength:           0.49 µm (0.44-0.54 µm)\n",
      "    _satpy_id:            DataID(name='B02', wavelength=WavelengthRange(min=0...\n",
      "    reader:               msi_safe\n",
      "    standard_name:        toa_bidirectional_reflectance\n",
      "    resolution:           10\n",
      "    platform_name:        Sentinel-2A\n",
      "    ...                   ...\n",
      "    end_time:             2022-06-27 10:06:11\n",
      "    start_time:           2022-06-27 10:06:11\n",
      "    name:                 B02\n",
      "    calibration:          reflectance\n",
      "    area:                 Area ID: algotltest_full\\nDescription: algotltest_f...\n",
      "    sensor:               msi\n"
     ]
    }
   ],
   "source": [
    "print(algotl_scn)"
   ]
  },
  {
   "cell_type": "code",
   "execution_count": 16,
   "metadata": {},
   "outputs": [
    {
     "name": "stderr",
     "output_type": "stream",
     "text": [
      "DEBUG:pyresample.geometry:Projections for data and slice areas are identical: PROJCRS[\"unknown\",BASEGEOGCRS[\"unknown\",DATUM[\"Unknown based on WGS 84 ellipsoid\",ELLIPSOID[\"WGS 84\",6378137,298.257223563,LENGTHUNIT[\"metre\",1],ID[\"EPSG\",7030]]],PRIMEM[\"Greenwich\",0,ANGLEUNIT[\"degree\",0.0174532925199433],ID[\"EPSG\",8901]]],CONVERSION[\"unknown\",METHOD[\"Mercator (variant B)\",ID[\"EPSG\",9805]],PARAMETER[\"Latitude of 1st standard parallel\",0,ANGLEUNIT[\"degree\",0.0174532925199433],ID[\"EPSG\",8823]],PARAMETER[\"Longitude of natural origin\",15,ANGLEUNIT[\"degree\",0.0174532925199433],ID[\"EPSG\",8802]],PARAMETER[\"False easting\",0,LENGTHUNIT[\"metre\",1],ID[\"EPSG\",8806]],PARAMETER[\"False northing\",0,LENGTHUNIT[\"metre\",1],ID[\"EPSG\",8807]]],CS[Cartesian,2],AXIS[\"(E)\",east,ORDER[1],LENGTHUNIT[\"metre\",1,ID[\"EPSG\",9001]]],AXIS[\"(N)\",north,ORDER[2],LENGTHUNIT[\"metre\",1,ID[\"EPSG\",9001]]]]\n",
      "[DEBUG: 2024-05-10 16:26:09 : pyresample.geometry] Projections for data and slice areas are identical: PROJCRS[\"unknown\",BASEGEOGCRS[\"unknown\",DATUM[\"Unknown based on WGS 84 ellipsoid\",ELLIPSOID[\"WGS 84\",6378137,298.257223563,LENGTHUNIT[\"metre\",1],ID[\"EPSG\",7030]]],PRIMEM[\"Greenwich\",0,ANGLEUNIT[\"degree\",0.0174532925199433],ID[\"EPSG\",8901]]],CONVERSION[\"unknown\",METHOD[\"Mercator (variant B)\",ID[\"EPSG\",9805]],PARAMETER[\"Latitude of 1st standard parallel\",0,ANGLEUNIT[\"degree\",0.0174532925199433],ID[\"EPSG\",8823]],PARAMETER[\"Longitude of natural origin\",15,ANGLEUNIT[\"degree\",0.0174532925199433],ID[\"EPSG\",8802]],PARAMETER[\"False easting\",0,LENGTHUNIT[\"metre\",1],ID[\"EPSG\",8806]],PARAMETER[\"False northing\",0,LENGTHUNIT[\"metre\",1],ID[\"EPSG\",8807]]],CS[Cartesian,2],AXIS[\"(E)\",east,ORDER[1],LENGTHUNIT[\"metre\",1,ID[\"EPSG\",9001]]],AXIS[\"(N)\",north,ORDER[2],LENGTHUNIT[\"metre\",1,ID[\"EPSG\",9001]]]]\n",
      "DEBUG:satpy.scene:Resampling DataID(name='B02', wavelength=WavelengthRange(min=0.44, central=0.49, max=0.54, unit='µm'), resolution=10, calibration=<1>, modifiers=())\n",
      "[DEBUG: 2024-05-10 16:26:09 : satpy.scene] Resampling DataID(name='B02', wavelength=WavelengthRange(min=0.44, central=0.49, max=0.54, unit='µm'), resolution=10, calibration=<1>, modifiers=())\n",
      "DEBUG:pyresample.geometry:Projections for data and slice areas are identical: PROJCRS[\"unknown\",BASEGEOGCRS[\"unknown\",DATUM[\"Unknown based on WGS 84 ellipsoid\",ELLIPSOID[\"WGS 84\",6378137,298.257223563,LENGTHUNIT[\"metre\",1],ID[\"EPSG\",7030]]],PRIMEM[\"Greenwich\",0,ANGLEUNIT[\"degree\",0.0174532925199433],ID[\"EPSG\",8901]]],CONVERSION[\"unknown\",METHOD[\"Mercator (variant B)\",ID[\"EPSG\",9805]],PARAMETER[\"Latitude of 1st standard parallel\",0,ANGLEUNIT[\"degree\",0.0174532925199433],ID[\"EPSG\",8823]],PARAMETER[\"Longitude of natural origin\",15,ANGLEUNIT[\"degree\",0.0174532925199433],ID[\"EPSG\",8802]],PARAMETER[\"False easting\",0,LENGTHUNIT[\"metre\",1],ID[\"EPSG\",8806]],PARAMETER[\"False northing\",0,LENGTHUNIT[\"metre\",1],ID[\"EPSG\",8807]]],CS[Cartesian,2],AXIS[\"(E)\",east,ORDER[1],LENGTHUNIT[\"metre\",1,ID[\"EPSG\",9001]]],AXIS[\"(N)\",north,ORDER[2],LENGTHUNIT[\"metre\",1,ID[\"EPSG\",9001]]]]\n",
      "[DEBUG: 2024-05-10 16:26:09 : pyresample.geometry] Projections for data and slice areas are identical: PROJCRS[\"unknown\",BASEGEOGCRS[\"unknown\",DATUM[\"Unknown based on WGS 84 ellipsoid\",ELLIPSOID[\"WGS 84\",6378137,298.257223563,LENGTHUNIT[\"metre\",1],ID[\"EPSG\",7030]]],PRIMEM[\"Greenwich\",0,ANGLEUNIT[\"degree\",0.0174532925199433],ID[\"EPSG\",8901]]],CONVERSION[\"unknown\",METHOD[\"Mercator (variant B)\",ID[\"EPSG\",9805]],PARAMETER[\"Latitude of 1st standard parallel\",0,ANGLEUNIT[\"degree\",0.0174532925199433],ID[\"EPSG\",8823]],PARAMETER[\"Longitude of natural origin\",15,ANGLEUNIT[\"degree\",0.0174532925199433],ID[\"EPSG\",8802]],PARAMETER[\"False easting\",0,LENGTHUNIT[\"metre\",1],ID[\"EPSG\",8806]],PARAMETER[\"False northing\",0,LENGTHUNIT[\"metre\",1],ID[\"EPSG\",8807]]],CS[Cartesian,2],AXIS[\"(E)\",east,ORDER[1],LENGTHUNIT[\"metre\",1,ID[\"EPSG\",9001]]],AXIS[\"(N)\",north,ORDER[2],LENGTHUNIT[\"metre\",1,ID[\"EPSG\",9001]]]]\n",
      "INFO:satpy.resample:Using default KDTree resampler\n",
      "[INFO: 2024-05-10 16:26:09 : satpy.resample] Using default KDTree resampler\n",
      "DEBUG:satpy.scene:Resampling DataID(name='B03', wavelength=WavelengthRange(min=0.54, central=0.56, max=0.58, unit='µm'), resolution=10, calibration=<1>, modifiers=())\n",
      "[DEBUG: 2024-05-10 16:26:09 : satpy.scene] Resampling DataID(name='B03', wavelength=WavelengthRange(min=0.54, central=0.56, max=0.58, unit='µm'), resolution=10, calibration=<1>, modifiers=())\n",
      "DEBUG:satpy.scene:Resampling DataID(name='B04', wavelength=WavelengthRange(min=0.645, central=0.665, max=0.685, unit='µm'), resolution=10, calibration=<1>, modifiers=())\n",
      "[DEBUG: 2024-05-10 16:26:09 : satpy.scene] Resampling DataID(name='B04', wavelength=WavelengthRange(min=0.645, central=0.665, max=0.685, unit='µm'), resolution=10, calibration=<1>, modifiers=())\n"
     ]
    }
   ],
   "source": [
    "algotl_cropped = algotl_scn.crop(area=algotl_10)\n",
    "algotl_resampled = algotl_cropped.resample(algotl_10)"
   ]
  },
  {
   "cell_type": "code",
   "execution_count": null,
   "metadata": {},
   "outputs": [],
   "source": [
    "algotl_scn_20 = algotl_scn.aggregate(func='mean', x=10, y=10)"
   ]
  },
  {
   "cell_type": "code",
   "execution_count": 12,
   "metadata": {},
   "outputs": [
    {
     "data": {
      "text/plain": [
       "[None]"
      ]
     },
     "execution_count": 12,
     "metadata": {},
     "output_type": "execute_result"
    }
   ],
   "source": [
    "algotl_scn.save_datasets(writer='cf', datasets=['B02', 'B03', 'B04'], filename='SEN2_lr_220627.nc')"
   ]
  },
  {
   "cell_type": "code",
   "execution_count": 23,
   "metadata": {},
   "outputs": [
    {
     "name": "stderr",
     "output_type": "stream",
     "text": [
      "[DEBUG: 2024-05-10 17:31:38 : satpy.writers] Reading ['/home/janky/miniforge3/envs/ALGOTLvisTest/lib/python3.11/site-packages/satpy/etc/writers/geotiff.yaml']\n"
     ]
    },
    {
     "name": "stderr",
     "output_type": "stream",
     "text": [
      "[DEBUG: 2024-05-10 17:31:38 : satpy.writers] Adding enhancement configuration from file: /home/janky/miniforge3/envs/ALGOTLvisTest/lib/python3.11/site-packages/satpy/etc/enhancements/generic.yaml\n",
      "[DEBUG: 2024-05-10 17:31:38 : satpy.writers] Data for DataID(name='B02', wavelength=WavelengthRange(min=0.44, central=0.49, max=0.54, unit='µm'), resolution=10, calibration=<1>, modifiers=()) will be enhanced with options:\n",
      "\t[{'name': 'linear_stretch', 'method': <function stretch at 0x7f99fc7a4ea0>, 'kwargs': {'stretch': 'crude', 'min_stretch': 0.0, 'max_stretch': 100.0}}, {'name': 'gamma', 'method': <function gamma at 0x7f99fc7a4f40>, 'kwargs': {'gamma': 1.5}}]\n",
      "[DEBUG: 2024-05-10 17:31:38 : trollimage.xrimage] Applying stretch crude with parameters {'min_stretch': 0.0, 'max_stretch': 100.0}\n",
      "[DEBUG: 2024-05-10 17:31:38 : trollimage.xrimage] Applying gamma 1.5\n",
      "[DEBUG: 2024-05-10 17:31:38 : rasterio.env] Entering env context: <rasterio.env.Env object at 0x7f99fc5d0750>\n",
      "[DEBUG: 2024-05-10 17:31:38 : rasterio.env] Starting outermost env\n",
      "[DEBUG: 2024-05-10 17:31:38 : rasterio.env] No GDAL environment exists\n",
      "[DEBUG: 2024-05-10 17:31:38 : rasterio.env] New GDAL environment <rasterio._env.GDALEnv object at 0x7f9a20f02aa0> created\n",
      "[DEBUG: 2024-05-10 17:31:38 : rasterio._env] GDAL_DATA found in environment.\n",
      "[DEBUG: 2024-05-10 17:31:38 : rasterio._env] PROJ_DATA found in environment.\n",
      "[DEBUG: 2024-05-10 17:31:38 : rasterio._env] Started GDALEnv: self=<rasterio._env.GDALEnv object at 0x7f9a20f02aa0>.\n",
      "[DEBUG: 2024-05-10 17:31:38 : rasterio.env] Entered env context: <rasterio.env.Env object at 0x7f99fc5d0750>\n",
      "[DEBUG: 2024-05-10 17:31:38 : rasterio._io] Path: _UnparsedPath(path='B02_20220627_100611.tif'), mode: w, driver: GTiff\n",
      "[DEBUG: 2024-05-10 17:31:38 : rasterio._io] Skipped delete for overwrite, dataset does not exist: 'B02_20220627_100611.tif'\n",
      "[DEBUG: 2024-05-10 17:31:38 : rasterio._base] Nodata success: 0, Nodata value: 0.000000\n",
      "[DEBUG: 2024-05-10 17:31:38 : rasterio._base] Nodata success: 0, Nodata value: 0.000000\n",
      "[DEBUG: 2024-05-10 17:31:38 : rasterio.env] Exiting env context: <rasterio.env.Env object at 0x7f99fc5d0750>\n",
      "[DEBUG: 2024-05-10 17:31:38 : rasterio.env] Cleared existing <rasterio._env.GDALEnv object at 0x7f9a20f02aa0> options\n",
      "[DEBUG: 2024-05-10 17:31:38 : rasterio._env] Stopped GDALEnv <rasterio._env.GDALEnv object at 0x7f9a20f02aa0>.\n",
      "[DEBUG: 2024-05-10 17:31:38 : rasterio.env] Exiting outermost env\n",
      "[DEBUG: 2024-05-10 17:31:38 : rasterio.env] Exited env context: <rasterio.env.Env object at 0x7f99fc5d0750>\n",
      "[DEBUG: 2024-05-10 17:31:38 : satpy.writers] Data for DataID(name='B04', wavelength=WavelengthRange(min=0.645, central=0.665, max=0.685, unit='µm'), resolution=10, calibration=<1>, modifiers=()) will be enhanced with options:\n",
      "\t[{'name': 'linear_stretch', 'method': <function stretch at 0x7f99fc7a4ea0>, 'kwargs': {'stretch': 'crude', 'min_stretch': 0.0, 'max_stretch': 100.0}}, {'name': 'gamma', 'method': <function gamma at 0x7f99fc7a4f40>, 'kwargs': {'gamma': 1.5}}]\n",
      "[DEBUG: 2024-05-10 17:31:38 : trollimage.xrimage] Applying stretch crude with parameters {'min_stretch': 0.0, 'max_stretch': 100.0}\n",
      "[DEBUG: 2024-05-10 17:31:38 : trollimage.xrimage] Applying gamma 1.5\n",
      "[DEBUG: 2024-05-10 17:31:38 : rasterio.env] Entering env context: <rasterio.env.Env object at 0x7f99fc7e7610>\n",
      "[DEBUG: 2024-05-10 17:31:38 : rasterio.env] Starting outermost env\n",
      "[DEBUG: 2024-05-10 17:31:38 : rasterio.env] No GDAL environment exists\n",
      "[DEBUG: 2024-05-10 17:31:38 : rasterio.env] New GDAL environment <rasterio._env.GDALEnv object at 0x7f9a20f03700> created\n",
      "[DEBUG: 2024-05-10 17:31:38 : rasterio._env] GDAL_DATA found in environment.\n",
      "[DEBUG: 2024-05-10 17:31:38 : rasterio._env] PROJ_DATA found in environment.\n",
      "[DEBUG: 2024-05-10 17:31:38 : rasterio._env] Started GDALEnv: self=<rasterio._env.GDALEnv object at 0x7f9a20f03700>.\n",
      "[DEBUG: 2024-05-10 17:31:38 : rasterio.env] Entered env context: <rasterio.env.Env object at 0x7f99fc7e7610>\n",
      "[DEBUG: 2024-05-10 17:31:38 : rasterio._io] Path: _UnparsedPath(path='B04_20220627_100611.tif'), mode: w, driver: GTiff\n",
      "[DEBUG: 2024-05-10 17:31:38 : rasterio._io] Skipped delete for overwrite, dataset does not exist: 'B04_20220627_100611.tif'\n",
      "[DEBUG: 2024-05-10 17:31:38 : rasterio._base] Nodata success: 0, Nodata value: 0.000000\n",
      "[DEBUG: 2024-05-10 17:31:38 : rasterio._base] Nodata success: 0, Nodata value: 0.000000\n",
      "[DEBUG: 2024-05-10 17:31:38 : rasterio.env] Exiting env context: <rasterio.env.Env object at 0x7f99fc7e7610>\n",
      "[DEBUG: 2024-05-10 17:31:38 : rasterio.env] Cleared existing <rasterio._env.GDALEnv object at 0x7f9a20f03700> options\n",
      "[DEBUG: 2024-05-10 17:31:38 : rasterio._env] Stopped GDALEnv <rasterio._env.GDALEnv object at 0x7f9a20f03700>.\n",
      "[DEBUG: 2024-05-10 17:31:38 : rasterio.env] Exiting outermost env\n",
      "[DEBUG: 2024-05-10 17:31:38 : rasterio.env] Exited env context: <rasterio.env.Env object at 0x7f99fc7e7610>\n",
      "[DEBUG: 2024-05-10 17:31:38 : satpy.writers] Data for DataID(name='B03', wavelength=WavelengthRange(min=0.54, central=0.56, max=0.58, unit='µm'), resolution=10, calibration=<1>, modifiers=()) will be enhanced with options:\n",
      "\t[{'name': 'linear_stretch', 'method': <function stretch at 0x7f99fc7a4ea0>, 'kwargs': {'stretch': 'crude', 'min_stretch': 0.0, 'max_stretch': 100.0}}, {'name': 'gamma', 'method': <function gamma at 0x7f99fc7a4f40>, 'kwargs': {'gamma': 1.5}}]\n",
      "[DEBUG: 2024-05-10 17:31:38 : trollimage.xrimage] Applying stretch crude with parameters {'min_stretch': 0.0, 'max_stretch': 100.0}\n",
      "[DEBUG: 2024-05-10 17:31:38 : trollimage.xrimage] Applying gamma 1.5\n",
      "[DEBUG: 2024-05-10 17:31:38 : rasterio.env] Entering env context: <rasterio.env.Env object at 0x7f99fc80f450>\n",
      "[DEBUG: 2024-05-10 17:31:38 : rasterio.env] Starting outermost env\n",
      "[DEBUG: 2024-05-10 17:31:38 : rasterio.env] No GDAL environment exists\n",
      "[DEBUG: 2024-05-10 17:31:38 : rasterio.env] New GDAL environment <rasterio._env.GDALEnv object at 0x7f99fdfe8f10> created\n",
      "[DEBUG: 2024-05-10 17:31:38 : rasterio._env] GDAL_DATA found in environment.\n",
      "[DEBUG: 2024-05-10 17:31:38 : rasterio._env] PROJ_DATA found in environment.\n",
      "[DEBUG: 2024-05-10 17:31:38 : rasterio._env] Started GDALEnv: self=<rasterio._env.GDALEnv object at 0x7f99fdfe8f10>.\n",
      "[DEBUG: 2024-05-10 17:31:38 : rasterio.env] Entered env context: <rasterio.env.Env object at 0x7f99fc80f450>\n",
      "[DEBUG: 2024-05-10 17:31:38 : rasterio._io] Path: _UnparsedPath(path='B03_20220627_100611.tif'), mode: w, driver: GTiff\n",
      "[DEBUG: 2024-05-10 17:31:38 : rasterio._io] Skipped delete for overwrite, dataset does not exist: 'B03_20220627_100611.tif'\n",
      "[DEBUG: 2024-05-10 17:31:38 : rasterio._base] Nodata success: 0, Nodata value: 0.000000\n",
      "[DEBUG: 2024-05-10 17:31:38 : rasterio._base] Nodata success: 0, Nodata value: 0.000000\n",
      "[DEBUG: 2024-05-10 17:31:38 : rasterio.env] Exiting env context: <rasterio.env.Env object at 0x7f99fc80f450>\n",
      "[DEBUG: 2024-05-10 17:31:38 : rasterio.env] Cleared existing <rasterio._env.GDALEnv object at 0x7f99fdfe8f10> options\n",
      "[DEBUG: 2024-05-10 17:31:38 : rasterio._env] Stopped GDALEnv <rasterio._env.GDALEnv object at 0x7f99fdfe8f10>.\n",
      "[DEBUG: 2024-05-10 17:31:38 : rasterio.env] Exiting outermost env\n",
      "[DEBUG: 2024-05-10 17:31:38 : rasterio.env] Exited env context: <rasterio.env.Env object at 0x7f99fc80f450>\n",
      "[INFO: 2024-05-10 17:31:38 : satpy.writers] Computing and writing results...\n",
      "2024-05-10 17:31:38,752 - distributed.protocol.pickle - ERROR - Failed to serialize <ToPickle: HighLevelGraph with 5 layers.\n",
      "<dask.highlevelgraph.HighLevelGraph object at 0x7f99fc6198d0>\n",
      " 0. store-sources-47608f4af1cc6899e51b5124cd9f5f10\n",
      " 1. store-map-6f1470a0efe191fc0a3e70d30e165bf4\n",
      " 2. store-map-5e2594f3a2d95eddb3831ffee0ac4932\n",
      " 3. store-map-6de1696c74d49e0322671a0c3de568c5\n",
      " 4. store-c6e9dafcc7e07c6c073ea482d2a5d50d\n",
      ">.\n",
      "Traceback (most recent call last):\n",
      "  File \"/home/janky/miniforge3/envs/ALGOTLvisTest/lib/python3.11/site-packages/distributed/protocol/pickle.py\", line 63, in dumps\n",
      "    result = pickle.dumps(x, **dump_kwargs)\n",
      "             ^^^^^^^^^^^^^^^^^^^^^^^^^^^^^^\n",
      "  File \"<stringsource>\", line 2, in rasterio._io.DatasetWriterBase.__reduce_cython__\n",
      "TypeError: self._hds cannot be converted to a Python object for pickling\n",
      "\n",
      "During handling of the above exception, another exception occurred:\n",
      "\n",
      "Traceback (most recent call last):\n",
      "  File \"/home/janky/miniforge3/envs/ALGOTLvisTest/lib/python3.11/site-packages/distributed/protocol/pickle.py\", line 68, in dumps\n",
      "    pickler.dump(x)\n",
      "  File \"<stringsource>\", line 2, in rasterio._io.DatasetWriterBase.__reduce_cython__\n",
      "TypeError: self._hds cannot be converted to a Python object for pickling\n",
      "\n",
      "During handling of the above exception, another exception occurred:\n",
      "\n",
      "Traceback (most recent call last):\n",
      "  File \"/home/janky/miniforge3/envs/ALGOTLvisTest/lib/python3.11/site-packages/distributed/protocol/pickle.py\", line 81, in dumps\n",
      "    result = cloudpickle.dumps(x, **dump_kwargs)\n",
      "             ^^^^^^^^^^^^^^^^^^^^^^^^^^^^^^^^^^^\n",
      "  File \"/home/janky/miniforge3/envs/ALGOTLvisTest/lib/python3.11/site-packages/cloudpickle/cloudpickle.py\", line 1479, in dumps\n",
      "    cp.dump(obj)\n",
      "  File \"/home/janky/miniforge3/envs/ALGOTLvisTest/lib/python3.11/site-packages/cloudpickle/cloudpickle.py\", line 1245, in dump\n",
      "    return super().dump(obj)\n",
      "           ^^^^^^^^^^^^^^^^^\n",
      "  File \"<stringsource>\", line 2, in rasterio._io.DatasetWriterBase.__reduce_cython__\n",
      "TypeError: self._hds cannot be converted to a Python object for pickling\n"
     ]
    },
    {
     "ename": "TypeError",
     "evalue": "('Could not serialize object of type HighLevelGraph', '<ToPickle: HighLevelGraph with 5 layers.\\n<dask.highlevelgraph.HighLevelGraph object at 0x7f99fc6198d0>\\n 0. store-sources-47608f4af1cc6899e51b5124cd9f5f10\\n 1. store-map-6f1470a0efe191fc0a3e70d30e165bf4\\n 2. store-map-5e2594f3a2d95eddb3831ffee0ac4932\\n 3. store-map-6de1696c74d49e0322671a0c3de568c5\\n 4. store-c6e9dafcc7e07c6c073ea482d2a5d50d\\n>')",
     "output_type": "error",
     "traceback": [
      "\u001b[0;31m---------------------------------------------------------------------------\u001b[0m",
      "\u001b[0;31mTypeError\u001b[0m                                 Traceback (most recent call last)",
      "File \u001b[0;32m~/miniforge3/envs/ALGOTLvisTest/lib/python3.11/site-packages/distributed/protocol/pickle.py:63\u001b[0m, in \u001b[0;36mdumps\u001b[0;34m(x, buffer_callback, protocol)\u001b[0m\n\u001b[1;32m     62\u001b[0m \u001b[38;5;28;01mtry\u001b[39;00m:\n\u001b[0;32m---> 63\u001b[0m     result \u001b[38;5;241m=\u001b[39m \u001b[43mpickle\u001b[49m\u001b[38;5;241;43m.\u001b[39;49m\u001b[43mdumps\u001b[49m\u001b[43m(\u001b[49m\u001b[43mx\u001b[49m\u001b[43m,\u001b[49m\u001b[43m \u001b[49m\u001b[38;5;241;43m*\u001b[39;49m\u001b[38;5;241;43m*\u001b[39;49m\u001b[43mdump_kwargs\u001b[49m\u001b[43m)\u001b[49m\n\u001b[1;32m     64\u001b[0m \u001b[38;5;28;01mexcept\u001b[39;00m \u001b[38;5;167;01mException\u001b[39;00m:\n",
      "File \u001b[0;32m<stringsource>:2\u001b[0m, in \u001b[0;36mrasterio._io.DatasetWriterBase.__reduce_cython__\u001b[0;34m()\u001b[0m\n",
      "\u001b[0;31mTypeError\u001b[0m: self._hds cannot be converted to a Python object for pickling",
      "\nDuring handling of the above exception, another exception occurred:\n",
      "\u001b[0;31mTypeError\u001b[0m                                 Traceback (most recent call last)",
      "File \u001b[0;32m~/miniforge3/envs/ALGOTLvisTest/lib/python3.11/site-packages/distributed/protocol/pickle.py:68\u001b[0m, in \u001b[0;36mdumps\u001b[0;34m(x, buffer_callback, protocol)\u001b[0m\n\u001b[1;32m     67\u001b[0m buffers\u001b[38;5;241m.\u001b[39mclear()\n\u001b[0;32m---> 68\u001b[0m \u001b[43mpickler\u001b[49m\u001b[38;5;241;43m.\u001b[39;49m\u001b[43mdump\u001b[49m\u001b[43m(\u001b[49m\u001b[43mx\u001b[49m\u001b[43m)\u001b[49m\n\u001b[1;32m     69\u001b[0m result \u001b[38;5;241m=\u001b[39m f\u001b[38;5;241m.\u001b[39mgetvalue()\n",
      "File \u001b[0;32m<stringsource>:2\u001b[0m, in \u001b[0;36mrasterio._io.DatasetWriterBase.__reduce_cython__\u001b[0;34m()\u001b[0m\n",
      "\u001b[0;31mTypeError\u001b[0m: self._hds cannot be converted to a Python object for pickling",
      "\nDuring handling of the above exception, another exception occurred:\n",
      "\u001b[0;31mTypeError\u001b[0m                                 Traceback (most recent call last)",
      "File \u001b[0;32m~/miniforge3/envs/ALGOTLvisTest/lib/python3.11/site-packages/distributed/protocol/serialize.py:363\u001b[0m, in \u001b[0;36mserialize\u001b[0;34m(x, serializers, on_error, context, iterate_collection)\u001b[0m\n\u001b[1;32m    362\u001b[0m \u001b[38;5;28;01mtry\u001b[39;00m:\n\u001b[0;32m--> 363\u001b[0m     header, frames \u001b[38;5;241m=\u001b[39m \u001b[43mdumps\u001b[49m\u001b[43m(\u001b[49m\u001b[43mx\u001b[49m\u001b[43m,\u001b[49m\u001b[43m \u001b[49m\u001b[43mcontext\u001b[49m\u001b[38;5;241;43m=\u001b[39;49m\u001b[43mcontext\u001b[49m\u001b[43m)\u001b[49m \u001b[38;5;28;01mif\u001b[39;00m wants_context \u001b[38;5;28;01melse\u001b[39;00m dumps(x)\n\u001b[1;32m    364\u001b[0m     header[\u001b[38;5;124m\"\u001b[39m\u001b[38;5;124mserializer\u001b[39m\u001b[38;5;124m\"\u001b[39m] \u001b[38;5;241m=\u001b[39m name\n",
      "File \u001b[0;32m~/miniforge3/envs/ALGOTLvisTest/lib/python3.11/site-packages/distributed/protocol/serialize.py:78\u001b[0m, in \u001b[0;36mpickle_dumps\u001b[0;34m(x, context)\u001b[0m\n\u001b[1;32m     76\u001b[0m     writeable\u001b[38;5;241m.\u001b[39mappend(\u001b[38;5;129;01mnot\u001b[39;00m f\u001b[38;5;241m.\u001b[39mreadonly)\n\u001b[0;32m---> 78\u001b[0m frames[\u001b[38;5;241m0\u001b[39m] \u001b[38;5;241m=\u001b[39m \u001b[43mpickle\u001b[49m\u001b[38;5;241;43m.\u001b[39;49m\u001b[43mdumps\u001b[49m\u001b[43m(\u001b[49m\n\u001b[1;32m     79\u001b[0m \u001b[43m    \u001b[49m\u001b[43mx\u001b[49m\u001b[43m,\u001b[49m\n\u001b[1;32m     80\u001b[0m \u001b[43m    \u001b[49m\u001b[43mbuffer_callback\u001b[49m\u001b[38;5;241;43m=\u001b[39;49m\u001b[43mbuffer_callback\u001b[49m\u001b[43m,\u001b[49m\n\u001b[1;32m     81\u001b[0m \u001b[43m    \u001b[49m\u001b[43mprotocol\u001b[49m\u001b[38;5;241;43m=\u001b[39;49m\u001b[43mcontext\u001b[49m\u001b[38;5;241;43m.\u001b[39;49m\u001b[43mget\u001b[49m\u001b[43m(\u001b[49m\u001b[38;5;124;43m\"\u001b[39;49m\u001b[38;5;124;43mpickle-protocol\u001b[39;49m\u001b[38;5;124;43m\"\u001b[39;49m\u001b[43m,\u001b[49m\u001b[43m \u001b[49m\u001b[38;5;28;43;01mNone\u001b[39;49;00m\u001b[43m)\u001b[49m\u001b[43m \u001b[49m\u001b[38;5;28;43;01mif\u001b[39;49;00m\u001b[43m \u001b[49m\u001b[43mcontext\u001b[49m\u001b[43m \u001b[49m\u001b[38;5;28;43;01melse\u001b[39;49;00m\u001b[43m \u001b[49m\u001b[38;5;28;43;01mNone\u001b[39;49;00m\u001b[43m,\u001b[49m\n\u001b[1;32m     82\u001b[0m \u001b[43m\u001b[49m\u001b[43m)\u001b[49m\n\u001b[1;32m     83\u001b[0m header \u001b[38;5;241m=\u001b[39m {\n\u001b[1;32m     84\u001b[0m     \u001b[38;5;124m\"\u001b[39m\u001b[38;5;124mserializer\u001b[39m\u001b[38;5;124m\"\u001b[39m: \u001b[38;5;124m\"\u001b[39m\u001b[38;5;124mpickle\u001b[39m\u001b[38;5;124m\"\u001b[39m,\n\u001b[1;32m     85\u001b[0m     \u001b[38;5;124m\"\u001b[39m\u001b[38;5;124mwriteable\u001b[39m\u001b[38;5;124m\"\u001b[39m: \u001b[38;5;28mtuple\u001b[39m(writeable),\n\u001b[1;32m     86\u001b[0m }\n",
      "File \u001b[0;32m~/miniforge3/envs/ALGOTLvisTest/lib/python3.11/site-packages/distributed/protocol/pickle.py:81\u001b[0m, in \u001b[0;36mdumps\u001b[0;34m(x, buffer_callback, protocol)\u001b[0m\n\u001b[1;32m     80\u001b[0m     buffers\u001b[38;5;241m.\u001b[39mclear()\n\u001b[0;32m---> 81\u001b[0m     result \u001b[38;5;241m=\u001b[39m \u001b[43mcloudpickle\u001b[49m\u001b[38;5;241;43m.\u001b[39;49m\u001b[43mdumps\u001b[49m\u001b[43m(\u001b[49m\u001b[43mx\u001b[49m\u001b[43m,\u001b[49m\u001b[43m \u001b[49m\u001b[38;5;241;43m*\u001b[39;49m\u001b[38;5;241;43m*\u001b[39;49m\u001b[43mdump_kwargs\u001b[49m\u001b[43m)\u001b[49m\n\u001b[1;32m     82\u001b[0m \u001b[38;5;28;01mexcept\u001b[39;00m \u001b[38;5;167;01mException\u001b[39;00m:\n",
      "File \u001b[0;32m~/miniforge3/envs/ALGOTLvisTest/lib/python3.11/site-packages/cloudpickle/cloudpickle.py:1479\u001b[0m, in \u001b[0;36mdumps\u001b[0;34m(obj, protocol, buffer_callback)\u001b[0m\n\u001b[1;32m   1478\u001b[0m cp \u001b[38;5;241m=\u001b[39m Pickler(file, protocol\u001b[38;5;241m=\u001b[39mprotocol, buffer_callback\u001b[38;5;241m=\u001b[39mbuffer_callback)\n\u001b[0;32m-> 1479\u001b[0m \u001b[43mcp\u001b[49m\u001b[38;5;241;43m.\u001b[39;49m\u001b[43mdump\u001b[49m\u001b[43m(\u001b[49m\u001b[43mobj\u001b[49m\u001b[43m)\u001b[49m\n\u001b[1;32m   1480\u001b[0m \u001b[38;5;28;01mreturn\u001b[39;00m file\u001b[38;5;241m.\u001b[39mgetvalue()\n",
      "File \u001b[0;32m~/miniforge3/envs/ALGOTLvisTest/lib/python3.11/site-packages/cloudpickle/cloudpickle.py:1245\u001b[0m, in \u001b[0;36mPickler.dump\u001b[0;34m(self, obj)\u001b[0m\n\u001b[1;32m   1244\u001b[0m \u001b[38;5;28;01mtry\u001b[39;00m:\n\u001b[0;32m-> 1245\u001b[0m     \u001b[38;5;28;01mreturn\u001b[39;00m \u001b[38;5;28;43msuper\u001b[39;49m\u001b[43m(\u001b[49m\u001b[43m)\u001b[49m\u001b[38;5;241;43m.\u001b[39;49m\u001b[43mdump\u001b[49m\u001b[43m(\u001b[49m\u001b[43mobj\u001b[49m\u001b[43m)\u001b[49m\n\u001b[1;32m   1246\u001b[0m \u001b[38;5;28;01mexcept\u001b[39;00m \u001b[38;5;167;01mRuntimeError\u001b[39;00m \u001b[38;5;28;01mas\u001b[39;00m e:\n",
      "File \u001b[0;32m<stringsource>:2\u001b[0m, in \u001b[0;36mrasterio._io.DatasetWriterBase.__reduce_cython__\u001b[0;34m()\u001b[0m\n",
      "\u001b[0;31mTypeError\u001b[0m: self._hds cannot be converted to a Python object for pickling",
      "\nThe above exception was the direct cause of the following exception:\n",
      "\u001b[0;31mTypeError\u001b[0m                                 Traceback (most recent call last)",
      "Cell \u001b[0;32mIn[23], line 1\u001b[0m\n\u001b[0;32m----> 1\u001b[0m \u001b[43malgotl_scn\u001b[49m\u001b[38;5;241;43m.\u001b[39;49m\u001b[43msave_datasets\u001b[49m\u001b[43m(\u001b[49m\u001b[43mwriter\u001b[49m\u001b[38;5;241;43m=\u001b[39;49m\u001b[38;5;124;43m'\u001b[39;49m\u001b[38;5;124;43mgeotiff\u001b[39;49m\u001b[38;5;124;43m'\u001b[39;49m\u001b[43m)\u001b[49m\n",
      "File \u001b[0;32m~/miniforge3/envs/ALGOTLvisTest/lib/python3.11/site-packages/satpy/scene.py:1293\u001b[0m, in \u001b[0;36mScene.save_datasets\u001b[0;34m(self, writer, filename, datasets, compute, **kwargs)\u001b[0m\n\u001b[1;32m   1289\u001b[0m         writer \u001b[38;5;241m=\u001b[39m \u001b[38;5;28mself\u001b[39m\u001b[38;5;241m.\u001b[39m_get_writer_by_ext(os\u001b[38;5;241m.\u001b[39mpath\u001b[38;5;241m.\u001b[39msplitext(filename)[\u001b[38;5;241m1\u001b[39m])\n\u001b[1;32m   1290\u001b[0m writer, save_kwargs \u001b[38;5;241m=\u001b[39m load_writer(writer,\n\u001b[1;32m   1291\u001b[0m                                   filename\u001b[38;5;241m=\u001b[39mfilename,\n\u001b[1;32m   1292\u001b[0m                                   \u001b[38;5;241m*\u001b[39m\u001b[38;5;241m*\u001b[39mkwargs)\n\u001b[0;32m-> 1293\u001b[0m \u001b[38;5;28;01mreturn\u001b[39;00m \u001b[43mwriter\u001b[49m\u001b[38;5;241;43m.\u001b[39;49m\u001b[43msave_datasets\u001b[49m\u001b[43m(\u001b[49m\u001b[43mdataarrays\u001b[49m\u001b[43m,\u001b[49m\u001b[43m \u001b[49m\u001b[43mcompute\u001b[49m\u001b[38;5;241;43m=\u001b[39;49m\u001b[43mcompute\u001b[49m\u001b[43m,\u001b[49m\u001b[43m \u001b[49m\u001b[38;5;241;43m*\u001b[39;49m\u001b[38;5;241;43m*\u001b[39;49m\u001b[43msave_kwargs\u001b[49m\u001b[43m)\u001b[49m\n",
      "File \u001b[0;32m~/miniforge3/envs/ALGOTLvisTest/lib/python3.11/site-packages/satpy/writers/__init__.py:756\u001b[0m, in \u001b[0;36mWriter.save_datasets\u001b[0;34m(self, datasets, compute, **kwargs)\u001b[0m\n\u001b[1;32m    754\u001b[0m \u001b[38;5;28;01mif\u001b[39;00m compute:\n\u001b[1;32m    755\u001b[0m     LOG\u001b[38;5;241m.\u001b[39minfo(\u001b[38;5;124m\"\u001b[39m\u001b[38;5;124mComputing and writing results...\u001b[39m\u001b[38;5;124m\"\u001b[39m)\n\u001b[0;32m--> 756\u001b[0m     \u001b[38;5;28;01mreturn\u001b[39;00m \u001b[43mcompute_writer_results\u001b[49m\u001b[43m(\u001b[49m\u001b[43m[\u001b[49m\u001b[43mresults\u001b[49m\u001b[43m]\u001b[49m\u001b[43m)\u001b[49m\n\u001b[1;32m    758\u001b[0m targets, sources, delayeds \u001b[38;5;241m=\u001b[39m split_results([results])\n\u001b[1;32m    759\u001b[0m \u001b[38;5;28;01mif\u001b[39;00m delayeds:\n\u001b[1;32m    760\u001b[0m     \u001b[38;5;66;03m# This writer had only delayed writes\u001b[39;00m\n",
      "File \u001b[0;32m~/miniforge3/envs/ALGOTLvisTest/lib/python3.11/site-packages/satpy/writers/__init__.py:594\u001b[0m, in \u001b[0;36mcompute_writer_results\u001b[0;34m(results)\u001b[0m\n\u001b[1;32m    591\u001b[0m     delayeds\u001b[38;5;241m.\u001b[39mappend(da\u001b[38;5;241m.\u001b[39mstore(sources, targets, compute\u001b[38;5;241m=\u001b[39m\u001b[38;5;28;01mFalse\u001b[39;00m))\n\u001b[1;32m    593\u001b[0m \u001b[38;5;28;01mif\u001b[39;00m delayeds:\n\u001b[0;32m--> 594\u001b[0m     \u001b[43mda\u001b[49m\u001b[38;5;241;43m.\u001b[39;49m\u001b[43mcompute\u001b[49m\u001b[43m(\u001b[49m\u001b[43mdelayeds\u001b[49m\u001b[43m)\u001b[49m\n\u001b[1;32m    596\u001b[0m \u001b[38;5;28;01mif\u001b[39;00m targets:\n\u001b[1;32m    597\u001b[0m     \u001b[38;5;28;01mfor\u001b[39;00m target \u001b[38;5;129;01min\u001b[39;00m targets:\n",
      "File \u001b[0;32m~/miniforge3/envs/ALGOTLvisTest/lib/python3.11/site-packages/dask/base.py:661\u001b[0m, in \u001b[0;36mcompute\u001b[0;34m(traverse, optimize_graph, scheduler, get, *args, **kwargs)\u001b[0m\n\u001b[1;32m    658\u001b[0m     postcomputes\u001b[38;5;241m.\u001b[39mappend(x\u001b[38;5;241m.\u001b[39m__dask_postcompute__())\n\u001b[1;32m    660\u001b[0m \u001b[38;5;28;01mwith\u001b[39;00m shorten_traceback():\n\u001b[0;32m--> 661\u001b[0m     results \u001b[38;5;241m=\u001b[39m \u001b[43mschedule\u001b[49m\u001b[43m(\u001b[49m\u001b[43mdsk\u001b[49m\u001b[43m,\u001b[49m\u001b[43m \u001b[49m\u001b[43mkeys\u001b[49m\u001b[43m,\u001b[49m\u001b[43m \u001b[49m\u001b[38;5;241;43m*\u001b[39;49m\u001b[38;5;241;43m*\u001b[39;49m\u001b[43mkwargs\u001b[49m\u001b[43m)\u001b[49m\n\u001b[1;32m    663\u001b[0m \u001b[38;5;28;01mreturn\u001b[39;00m repack([f(r, \u001b[38;5;241m*\u001b[39ma) \u001b[38;5;28;01mfor\u001b[39;00m r, (f, a) \u001b[38;5;129;01min\u001b[39;00m \u001b[38;5;28mzip\u001b[39m(results, postcomputes)])\n",
      "File \u001b[0;32m~/miniforge3/envs/ALGOTLvisTest/lib/python3.11/site-packages/distributed/protocol/serialize.py:389\u001b[0m, in \u001b[0;36mserialize\u001b[0;34m(x, serializers, on_error, context, iterate_collection)\u001b[0m\n\u001b[1;32m    387\u001b[0m     \u001b[38;5;28;01mexcept\u001b[39;00m \u001b[38;5;167;01mException\u001b[39;00m:\n\u001b[1;32m    388\u001b[0m         \u001b[38;5;28;01mraise\u001b[39;00m \u001b[38;5;167;01mTypeError\u001b[39;00m(msg) \u001b[38;5;28;01mfrom\u001b[39;00m \u001b[38;5;21;01mexc\u001b[39;00m\n\u001b[0;32m--> 389\u001b[0m     \u001b[38;5;28;01mraise\u001b[39;00m \u001b[38;5;167;01mTypeError\u001b[39;00m(msg, str_x) \u001b[38;5;28;01mfrom\u001b[39;00m \u001b[38;5;21;01mexc\u001b[39;00m\n\u001b[1;32m    390\u001b[0m \u001b[38;5;28;01melse\u001b[39;00m:  \u001b[38;5;66;03m# pragma: nocover\u001b[39;00m\n\u001b[1;32m    391\u001b[0m     \u001b[38;5;28;01mraise\u001b[39;00m \u001b[38;5;167;01mValueError\u001b[39;00m(\u001b[38;5;124mf\u001b[39m\u001b[38;5;124m\"\u001b[39m\u001b[38;5;132;01m{\u001b[39;00mon_error\u001b[38;5;132;01m=}\u001b[39;00m\u001b[38;5;124m; expected \u001b[39m\u001b[38;5;124m'\u001b[39m\u001b[38;5;124mmessage\u001b[39m\u001b[38;5;124m'\u001b[39m\u001b[38;5;124m or \u001b[39m\u001b[38;5;124m'\u001b[39m\u001b[38;5;124mraise\u001b[39m\u001b[38;5;124m'\u001b[39m\u001b[38;5;124m\"\u001b[39m)\n",
      "\u001b[0;31mTypeError\u001b[0m: ('Could not serialize object of type HighLevelGraph', '<ToPickle: HighLevelGraph with 5 layers.\\n<dask.highlevelgraph.HighLevelGraph object at 0x7f99fc6198d0>\\n 0. store-sources-47608f4af1cc6899e51b5124cd9f5f10\\n 1. store-map-6f1470a0efe191fc0a3e70d30e165bf4\\n 2. store-map-5e2594f3a2d95eddb3831ffee0ac4932\\n 3. store-map-6de1696c74d49e0322671a0c3de568c5\\n 4. store-c6e9dafcc7e07c6c073ea482d2a5d50d\\n>')"
     ]
    }
   ],
   "source": [
    "algotl_scn.save_datasets(writer='geotiff')"
   ]
  },
  {
   "cell_type": "code",
   "execution_count": null,
   "metadata": {},
   "outputs": [],
   "source": [
    "b04min = algotl_scn['B04'].values.min()\n",
    "b04max = algotl_scn['B04'].values.max()\n",
    "b03min = algotl_scn['B03'].values.min()\n",
    "b03max = algotl_scn['B03'].values.max()\n",
    "b02min = algotl_scn['B02'].values.min()\n",
    "b02max = algotl_scn['B02'].values.max()"
   ]
  },
  {
   "cell_type": "code",
   "execution_count": null,
   "metadata": {},
   "outputs": [],
   "source": [
    "algotl_scn['B04_stretch'] = (algotl_scn['B04'] - b04min * 2) / (b04max - b04min)\n",
    "# algotl_scn['B04_stretch'].attrs = combine_metadata(algotl_scn['B04'])\n",
    "\n",
    "algotl_scn['B03_stretch'] = (algotl_scn['B03'] - b03min * 2) / (b03max - b03min)\n",
    "# algotl_scn['B03_stretch'].attrs = combine_metadata(algotl_scn['B03'])\n",
    "\n",
    "algotl_scn['B02_stretch'] = (algotl_scn['B02'] - b02min * 2) / (b02max - b02min)\n",
    "# algotl_scn['B02_stretch'].attrs = combine_metadata(algotl_scn['B02'])"
   ]
  },
  {
   "cell_type": "code",
   "execution_count": 24,
   "metadata": {},
   "outputs": [],
   "source": [
    "compositor = GenericCompositor('overview')\n",
    "\n",
    "composite = compositor([algotl_scn['B04'],\n",
    "                        algotl_scn['B03'],\n",
    "                        algotl_scn['B02']])"
   ]
  },
  {
   "cell_type": "code",
   "execution_count": 25,
   "metadata": {},
   "outputs": [],
   "source": [
    "img = to_image(composite)"
   ]
  },
  {
   "cell_type": "code",
   "execution_count": 26,
   "metadata": {},
   "outputs": [],
   "source": [
    "# img.invert([False, False, True])\n",
    "# img.stretch('crude', max_stretch=10)\n",
    "img.stretch('linear', cutoffs=(0.4, 0.4))"
   ]
  },
  {
   "cell_type": "code",
   "execution_count": 27,
   "metadata": {},
   "outputs": [],
   "source": [
    "img.gamma(1.7)"
   ]
  },
  {
   "cell_type": "code",
   "execution_count": 28,
   "metadata": {},
   "outputs": [],
   "source": [
    "img.show()"
   ]
  },
  {
   "cell_type": "code",
   "execution_count": null,
   "metadata": {},
   "outputs": [],
   "source": [
    "mins = 1\n",
    "maxs = 1.45\n",
    "\n",
    "img = to_image(algotl_scn['kahru2'])\n",
    "img.stretch('crude', min_stretch=[mins], max_stretch=[maxs])\n",
    "spectral.set_range(mins, maxs)\n",
    "# spectral.set_range(1, 2)\n",
    "img.colorize(spectral)\n",
    "img.show()"
   ]
  },
  {
   "cell_type": "code",
   "execution_count": null,
   "metadata": {},
   "outputs": [],
   "source": [
    "algotl_scn.save_datasets(writer='simple_image', filename='algotl_diff_test_output.png', base_dir='/home/janky/Data/')"
   ]
  }
 ],
 "metadata": {
  "kernelspec": {
   "display_name": "ALGOTLvisTest",
   "language": "python",
   "name": "algotlvistest"
  },
  "language_info": {
   "codemirror_mode": {
    "name": "ipython",
    "version": 3
   },
   "file_extension": ".py",
   "mimetype": "text/x-python",
   "name": "python",
   "nbconvert_exporter": "python",
   "pygments_lexer": "ipython3",
   "version": "3.11.9"
  }
 },
 "nbformat": 4,
 "nbformat_minor": 2
}
