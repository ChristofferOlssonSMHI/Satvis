{
 "cells": [
  {
   "cell_type": "code",
   "execution_count": 1,
   "metadata": {},
   "outputs": [],
   "source": [
    "from satpy import Scene, MultiScene, find_files_and_readers\n",
    "from satpy.composites import GenericCompositor\n",
    "from pyresample.geometry import AreaDefinition\n",
    "from glob import glob\n",
    "import dask\n",
    "import os\n",
    "\n",
    "from shapely.geometry import Point, Polygon"
   ]
  },
  {
   "cell_type": "code",
   "execution_count": 2,
   "metadata": {},
   "outputs": [
    {
     "data": {
      "text/plain": [
       "<dask.config.set at 0x245cf9dedd0>"
      ]
     },
     "execution_count": 2,
     "metadata": {},
     "output_type": "execute_result"
    }
   ],
   "source": [
    "os.environ['SATPY_DASK_CHUNK_SIZE'] = '32MiB'\n",
    "dask.config.set(num_workers=4)"
   ]
  },
  {
   "cell_type": "code",
   "execution_count": 3,
   "metadata": {},
   "outputs": [],
   "source": [
    "dlist = range(1, 5)"
   ]
  },
  {
   "cell_type": "code",
   "execution_count": 4,
   "metadata": {},
   "outputs": [
    {
     "data": {
      "text/plain": [
       "[<satpy.scene.Scene at 0x245cd1d41d0>,\n",
       " <satpy.scene.Scene at 0x245cf820c10>,\n",
       " <satpy.scene.Scene at 0x245d1617c90>,\n",
       " <satpy.scene.Scene at 0x245d1f46e90>]"
      ]
     },
     "execution_count": 4,
     "metadata": {},
     "output_type": "execute_result"
    }
   ],
   "source": [
    "scn_list = []\n",
    "for path in dlist:\n",
    "    files = find_files_and_readers(base_dir=f'C:\\\\Arbetsmapp\\\\ALGOTL\\\\{path}', reader='msi_safe')\n",
    "    scn = Scene(filenames=files, reader='msi_safe')\n",
    "    scn_list.append(scn)\n",
    "scn_list"
   ]
  },
  {
   "cell_type": "code",
   "execution_count": 5,
   "metadata": {},
   "outputs": [
    {
     "name": "stdout",
     "output_type": "stream",
     "text": [
      "\n"
     ]
    }
   ],
   "source": [
    "print(scn_list[1])"
   ]
  },
  {
   "cell_type": "code",
   "execution_count": 6,
   "metadata": {},
   "outputs": [],
   "source": [
    "algotl_10 = AreaDefinition.from_area_of_interest(\n",
    "    area_id=\"algotltest_full\", projection='epsg:3006', \n",
    "    shape=[20000, 18000], center=[720573.556, 6371774.759], \n",
    "    resolution=[10, 10]\n",
    "    )"
   ]
  },
  {
   "cell_type": "code",
   "execution_count": 7,
   "metadata": {},
   "outputs": [],
   "source": [
    "# 20000x18000, center=[720573.556, 6371774.759]\n",
    "c_x = 720573.556\n",
    "c_y = 6371774.759\n",
    "ll_x = 630573.556\n",
    "ll_y = 6271774.759\n",
    "ur_x = 810573.556\n",
    "ur_y = 6471774.759\n",
    "\n",
    "c = Point(c_x, c_y)\n",
    "ll = Point((ll_x, ll_y))\n",
    "ul = Point((ll_x, ur_y))\n",
    "lr = Point((ur_x, ll_y))\n",
    "ur = Point((ur_x, ur_y))"
   ]
  },
  {
   "cell_type": "code",
   "execution_count": 8,
   "metadata": {},
   "outputs": [],
   "source": [
    "overlap = 0.1\n",
    "quad_width = 10000\n",
    "quad_height = 9000\n",
    "ol_x = quad_width * overlap\n",
    "ol_y = quad_height * overlap\n",
    "quad_x_ol = quad_width + ol_x\n",
    "quad_y_ol = quad_height + ol_y\n",
    "\n",
    "# p_ll_c = Point((ll_x+(c_x+ol))/2, (ll_y+(c_y+ol))/2)\n",
    "# p_ul_c = Point((ll_x+(c_x+ol))/2, (ur_y+(c_y-ol))/2)\n",
    "# p_lr_c = Point((ur_x+(c_x-ol))/2, (ll_y+(c_y+ol))/2)\n",
    "# p_ur_c = Point((ur_x+(c_x-ol))/2, (ur_y+(c_y-ol))/2)\n",
    "# print('GEOMETRYCOLLECTION(' + str(ll_c) + ',', str(ul_c) + ',', str(lr_c) + ',', str(ur_c) + ')')\n",
    "# GEOMETRYCOLLECTION(POINT (675573.556 6321774.759), POINT (675573.556 6421774.759), POINT (765573.556 6321774.759), POINT (765573.556 6421774.759))\n",
    "# GEOMETRYCOLLECTION(POINT (676073.556 6322274.759), POINT (676073.556 6421274.759), POIN1T (765073.556 6322274.759), POINT (765073.556 6421274.759))\n",
    "\n",
    "\n",
    "ll_c = [(ll_x+(c_x+ol_x))/2, (ll_y+(c_y+ol_y))/2]\n",
    "ul_c = [(ll_x+(c_x+ol_x))/2, (ur_y+(c_y-ol_y))/2]\n",
    "lr_c = [(ur_x+(c_x-ol_x))/2, (ll_y+(c_y+ol_y))/2]\n",
    "ur_c = [(ur_x+(c_x-ol_x))/2, (ur_y+(c_y-ol_y))/2]\n",
    "\n",
    "center_points = {'ll': ll_c, 'ul': ul_c, 'lr': lr_c, 'ur': ur_c}"
   ]
  },
  {
   "cell_type": "code",
   "execution_count": 9,
   "metadata": {},
   "outputs": [],
   "source": [
    "algotl_quadrants = []\n",
    "for quadrant, center in center_points.items():\n",
    "    algotl_bbox = AreaDefinition.from_area_of_interest(area_id=f\"algotl_{quadrant}\", projection='epsg:3006', shape=[quad_x_ol, quad_y_ol], center=center, resolution=[10, 10])\n",
    "    algotl_quadrants.append(algotl_bbox)"
   ]
  },
  {
   "cell_type": "code",
   "execution_count": 10,
   "metadata": {},
   "outputs": [
    {
     "data": {
      "text/plain": [
       "[Area ID: algotl_ll\n",
       " Description: algotl_ll\n",
       " Projection: {'ellps': 'GRS80', 'no_defs': 'None', 'proj': 'utm', 'type': 'crs', 'units': 'm', 'zone': '33'}\n",
       " Number of columns: 9900\n",
       " Number of rows: 11000\n",
       " Area extent: (626573.556, 6267224.759, 725573.556, 6377224.759),\n",
       " Area ID: algotl_ul\n",
       " Description: algotl_ul\n",
       " Projection: {'ellps': 'GRS80', 'no_defs': 'None', 'proj': 'utm', 'type': 'crs', 'units': 'm', 'zone': '33'}\n",
       " Number of columns: 9900\n",
       " Number of rows: 11000\n",
       " Area extent: (626573.556, 6366324.759, 725573.556, 6476324.759),\n",
       " Area ID: algotl_lr\n",
       " Description: algotl_lr\n",
       " Projection: {'ellps': 'GRS80', 'no_defs': 'None', 'proj': 'utm', 'type': 'crs', 'units': 'm', 'zone': '33'}\n",
       " Number of columns: 9900\n",
       " Number of rows: 11000\n",
       " Area extent: (715573.556, 6267224.759, 814573.556, 6377224.759),\n",
       " Area ID: algotl_ur\n",
       " Description: algotl_ur\n",
       " Projection: {'ellps': 'GRS80', 'no_defs': 'None', 'proj': 'utm', 'type': 'crs', 'units': 'm', 'zone': '33'}\n",
       " Number of columns: 9900\n",
       " Number of rows: 11000\n",
       " Area extent: (715573.556, 6366324.759, 814573.556, 6476324.759)]"
      ]
     },
     "execution_count": 10,
     "metadata": {},
     "output_type": "execute_result"
    }
   ],
   "source": [
    "algotl_quadrants"
   ]
  },
  {
   "cell_type": "code",
   "execution_count": 11,
   "metadata": {},
   "outputs": [
    {
     "data": {
      "text/plain": [
       "<Projected CRS: EPSG:3006>\n",
       "Name: SWEREF99 TM\n",
       "Axis Info [cartesian]:\n",
       "- N[north]: Northing (metre)\n",
       "- E[east]: Easting (metre)\n",
       "Area of Use:\n",
       "- name: Sweden - onshore and offshore.\n",
       "- bounds: (10.03, 54.96, 24.17, 69.07)\n",
       "Coordinate Operation:\n",
       "- name: SWEREF99 TM\n",
       "- method: Transverse Mercator\n",
       "Datum: SWEREF99\n",
       "- Ellipsoid: GRS 1980\n",
       "- Prime Meridian: Greenwich"
      ]
     },
     "execution_count": 11,
     "metadata": {},
     "output_type": "execute_result"
    }
   ],
   "source": [
    "algotl_10.crs"
   ]
  },
  {
   "cell_type": "code",
   "execution_count": 12,
   "metadata": {},
   "outputs": [],
   "source": [
    "composite = 'true_color'"
   ]
  },
  {
   "cell_type": "code",
   "execution_count": 13,
   "metadata": {},
   "outputs": [
    {
     "name": "stderr",
     "output_type": "stream",
     "text": [
      "c:\\Users\\k000851\\AppData\\Local\\miniforge3\\envs\\ALGOTLvisTest\\Lib\\site-packages\\satpy\\readers\\msi_safe.py:321: RuntimeWarning: Mean of empty slice\n",
      "  angles = np.nanmean(np.dstack(arrays), -1)\n",
      "c:\\Users\\k000851\\AppData\\Local\\miniforge3\\envs\\ALGOTLvisTest\\Lib\\site-packages\\satpy\\readers\\msi_safe.py:321: RuntimeWarning: Mean of empty slice\n",
      "  angles = np.nanmean(np.dstack(arrays), -1)\n",
      "c:\\Users\\k000851\\AppData\\Local\\miniforge3\\envs\\ALGOTLvisTest\\Lib\\site-packages\\pyresample\\kd_tree.py:1153: PerformanceWarning: Increasing number of chunks by factor of 13\n",
      "  res = blockwise(_my_index, dst_adims,\n",
      "c:\\Users\\k000851\\AppData\\Local\\miniforge3\\envs\\ALGOTLvisTest\\Lib\\site-packages\\satpy\\readers\\msi_safe.py:321: RuntimeWarning: Mean of empty slice\n",
      "  angles = np.nanmean(np.dstack(arrays), -1)\n",
      "c:\\Users\\k000851\\AppData\\Local\\miniforge3\\envs\\ALGOTLvisTest\\Lib\\site-packages\\satpy\\readers\\msi_safe.py:321: RuntimeWarning: Mean of empty slice\n",
      "  angles = np.nanmean(np.dstack(arrays), -1)\n",
      "c:\\Users\\k000851\\AppData\\Local\\miniforge3\\envs\\ALGOTLvisTest\\Lib\\site-packages\\pyresample\\kd_tree.py:1153: PerformanceWarning: Increasing number of chunks by factor of 16\n",
      "  res = blockwise(_my_index, dst_adims,\n",
      "c:\\Users\\k000851\\AppData\\Local\\miniforge3\\envs\\ALGOTLvisTest\\Lib\\site-packages\\satpy\\readers\\msi_safe.py:321: RuntimeWarning: Mean of empty slice\n",
      "  angles = np.nanmean(np.dstack(arrays), -1)\n",
      "c:\\Users\\k000851\\AppData\\Local\\miniforge3\\envs\\ALGOTLvisTest\\Lib\\site-packages\\satpy\\readers\\msi_safe.py:321: RuntimeWarning: Mean of empty slice\n",
      "  angles = np.nanmean(np.dstack(arrays), -1)\n"
     ]
    }
   ],
   "source": [
    "mscn = MultiScene(scn_list)\n",
    "mscn.load(['true_color'])\n",
    "algotl_mscn = mscn.resample(algotl_quadrants[2])\n",
    "algotl_scn = algotl_mscn.blend()"
   ]
  },
  {
   "cell_type": "code",
   "execution_count": 14,
   "metadata": {},
   "outputs": [
    {
     "name": "stderr",
     "output_type": "stream",
     "text": [
      "c:\\Users\\k000851\\AppData\\Local\\miniforge3\\envs\\ALGOTLvisTest\\Lib\\site-packages\\dask\\core.py:127: RuntimeWarning: invalid value encountered in log\n",
      "  return func(*(_execute_task(a, cache) for a in args))\n"
     ]
    }
   ],
   "source": [
    "algotl_scn.save_dataset(composite, 'S2A_240727_lr_10_tc_3006.tif')"
   ]
  },
  {
   "cell_type": "code",
   "execution_count": 15,
   "metadata": {},
   "outputs": [],
   "source": [
    "# small_scn = algotl_scn.resample(algotl_scn.finest_area().copy(height=2000, width=1800), resampler=\"nearest\")"
   ]
  },
  {
   "cell_type": "code",
   "execution_count": 16,
   "metadata": {},
   "outputs": [],
   "source": [
    "# small_scn.save_dataset(composite, 'sentinel2_msi_algotl_small01.tif')"
   ]
  }
 ],
 "metadata": {
  "kernelspec": {
   "display_name": "ALGOTLvisTest",
   "language": "python",
   "name": "python3"
  },
  "language_info": {
   "codemirror_mode": {
    "name": "ipython",
    "version": 3
   },
   "file_extension": ".py",
   "mimetype": "text/x-python",
   "name": "python",
   "nbconvert_exporter": "python",
   "pygments_lexer": "ipython3",
   "version": "3.11.9"
  }
 },
 "nbformat": 4,
 "nbformat_minor": 2
}
