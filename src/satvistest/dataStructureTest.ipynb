{
 "cells": [
  {
   "cell_type": "code",
   "execution_count": 71,
   "metadata": {},
   "outputs": [],
   "source": [
    "import geopandas as gpd\n",
    "import pandas as pd\n",
    "import yaml\n",
    "import xarray as xr\n",
    "\n",
    "import os"
   ]
  },
  {
   "cell_type": "code",
   "execution_count": 58,
   "metadata": {},
   "outputs": [
    {
     "name": "stdout",
     "output_type": "stream",
     "text": [
      "C:\\Arbetsmapp\\Shapefiler\\Sub-basins_Baltic_Sea\\Havsomr_SVAR_2016_3b.shp\n",
      "C:\\Arbetsmapp\\BAWS\\shp_data\n"
     ]
    }
   ],
   "source": [
    "with open('../../config/satvis.yaml', 'r') as f:\n",
    "    config = yaml.safe_load(f)\n",
    "\n",
    "dir_dict = config['data_directories']\n",
    "sub_basin_shp = dir_dict['sub_basin_shp']\n",
    "cyano_data_shp = dir_dict['cyano_data_shp']\n",
    "\n",
    "print(sub_basin_shp)\n",
    "print(cyano_data_shp)"
   ]
  },
  {
   "cell_type": "markdown",
   "metadata": {},
   "source": [
    "# BAWS data"
   ]
  },
  {
   "cell_type": "code",
   "execution_count": 59,
   "metadata": {},
   "outputs": [],
   "source": [
    "# TODO Convert to GeoPackage and add both shape and raster data to GeoDataFrame"
   ]
  },
  {
   "cell_type": "code",
   "execution_count": 67,
   "metadata": {},
   "outputs": [
    {
     "data": {
      "text/html": [
       "<div>\n",
       "<style scoped>\n",
       "    .dataframe tbody tr th:only-of-type {\n",
       "        vertical-align: middle;\n",
       "    }\n",
       "\n",
       "    .dataframe tbody tr th {\n",
       "        vertical-align: top;\n",
       "    }\n",
       "\n",
       "    .dataframe thead th {\n",
       "        text-align: right;\n",
       "    }\n",
       "</style>\n",
       "<table border=\"1\" class=\"dataframe\">\n",
       "  <thead>\n",
       "    <tr style=\"text-align: right;\">\n",
       "      <th></th>\n",
       "      <th>class</th>\n",
       "      <th>geometry</th>\n",
       "    </tr>\n",
       "  </thead>\n",
       "  <tbody>\n",
       "    <tr>\n",
       "      <th>0</th>\n",
       "      <td>1</td>\n",
       "      <td>POLYGON ((869261.000 7354123.000, 873261.000 7...</td>\n",
       "    </tr>\n",
       "    <tr>\n",
       "      <th>1</th>\n",
       "      <td>1</td>\n",
       "      <td>POLYGON ((1114261.000 7354123.000, 1123261.000...</td>\n",
       "    </tr>\n",
       "    <tr>\n",
       "      <th>2</th>\n",
       "      <td>1</td>\n",
       "      <td>POLYGON ((1090261.000 7353123.000, 1092261.000...</td>\n",
       "    </tr>\n",
       "    <tr>\n",
       "      <th>3</th>\n",
       "      <td>1</td>\n",
       "      <td>POLYGON ((1098261.000 7351123.000, 1100261.000...</td>\n",
       "    </tr>\n",
       "    <tr>\n",
       "      <th>4</th>\n",
       "      <td>1</td>\n",
       "      <td>POLYGON ((232261.000 7354123.000, 236261.000 7...</td>\n",
       "    </tr>\n",
       "    <tr>\n",
       "      <th>...</th>\n",
       "      <td>...</td>\n",
       "      <td>...</td>\n",
       "    </tr>\n",
       "    <tr>\n",
       "      <th>7757</th>\n",
       "      <td>1</td>\n",
       "      <td>POLYGON ((500261.000 5959123.000, 502261.000 5...</td>\n",
       "    </tr>\n",
       "    <tr>\n",
       "      <th>7758</th>\n",
       "      <td>1</td>\n",
       "      <td>POLYGON ((553261.000 5993123.000, 555261.000 5...</td>\n",
       "    </tr>\n",
       "    <tr>\n",
       "      <th>7759</th>\n",
       "      <td>1</td>\n",
       "      <td>POLYGON ((642261.000 5961123.000, 645261.000 5...</td>\n",
       "    </tr>\n",
       "    <tr>\n",
       "      <th>7760</th>\n",
       "      <td>1</td>\n",
       "      <td>POLYGON ((753261.000 5981123.000, 756261.000 5...</td>\n",
       "    </tr>\n",
       "    <tr>\n",
       "      <th>7761</th>\n",
       "      <td>1</td>\n",
       "      <td>POLYGON ((994261.000 5968123.000, 997261.000 5...</td>\n",
       "    </tr>\n",
       "  </tbody>\n",
       "</table>\n",
       "<p>7762 rows × 2 columns</p>\n",
       "</div>"
      ],
      "text/plain": [
       "      class                                           geometry\n",
       "0         1  POLYGON ((869261.000 7354123.000, 873261.000 7...\n",
       "1         1  POLYGON ((1114261.000 7354123.000, 1123261.000...\n",
       "2         1  POLYGON ((1090261.000 7353123.000, 1092261.000...\n",
       "3         1  POLYGON ((1098261.000 7351123.000, 1100261.000...\n",
       "4         1  POLYGON ((232261.000 7354123.000, 236261.000 7...\n",
       "...     ...                                                ...\n",
       "7757      1  POLYGON ((500261.000 5959123.000, 502261.000 5...\n",
       "7758      1  POLYGON ((553261.000 5993123.000, 555261.000 5...\n",
       "7759      1  POLYGON ((642261.000 5961123.000, 645261.000 5...\n",
       "7760      1  POLYGON ((753261.000 5981123.000, 756261.000 5...\n",
       "7761      1  POLYGON ((994261.000 5968123.000, 997261.000 5...\n",
       "\n",
       "[7762 rows x 2 columns]"
      ]
     },
     "execution_count": 67,
     "metadata": {},
     "output_type": "execute_result"
    }
   ],
   "source": [
    "cyano_data_file = gpd.read_file('data/cyano_daymap_20220815.shp')\n",
    "cyano_data_file"
   ]
  },
  {
   "cell_type": "code",
   "execution_count": 73,
   "metadata": {},
   "outputs": [
    {
     "data": {
      "text/plain": [
       "Timestamp('2022-08-15 00:00:00')"
      ]
     },
     "execution_count": 73,
     "metadata": {},
     "output_type": "execute_result"
    }
   ],
   "source": [
    "file_ts = pd.Timestamp(os.path.basename('data/cyano_daymap_20220815.shp').split('.')[0].split('_')[-1])\n",
    "file_ts"
   ]
  },
  {
   "cell_type": "code",
   "execution_count": 75,
   "metadata": {},
   "outputs": [],
   "source": [
    "# TODO Change to create a time multiindex\n",
    "cyano_data_file['time'] = file_ts\n",
    "cyano_data_file"
   ]
  },
  {
   "cell_type": "code",
   "execution_count": 76,
   "metadata": {},
   "outputs": [
    {
     "data": {
      "text/html": [
       "<div>\n",
       "<style scoped>\n",
       "    .dataframe tbody tr th:only-of-type {\n",
       "        vertical-align: middle;\n",
       "    }\n",
       "\n",
       "    .dataframe tbody tr th {\n",
       "        vertical-align: top;\n",
       "    }\n",
       "\n",
       "    .dataframe thead th {\n",
       "        text-align: right;\n",
       "    }\n",
       "</style>\n",
       "<table border=\"1\" class=\"dataframe\">\n",
       "  <thead>\n",
       "    <tr style=\"text-align: right;\">\n",
       "      <th></th>\n",
       "      <th>class</th>\n",
       "      <th>geometry</th>\n",
       "      <th>time</th>\n",
       "    </tr>\n",
       "  </thead>\n",
       "  <tbody>\n",
       "    <tr>\n",
       "      <th>0</th>\n",
       "      <td>1</td>\n",
       "      <td>POLYGON ((869261.000 7354123.000, 873261.000 7...</td>\n",
       "      <td>2022-08-15</td>\n",
       "    </tr>\n",
       "    <tr>\n",
       "      <th>1</th>\n",
       "      <td>1</td>\n",
       "      <td>POLYGON ((1114261.000 7354123.000, 1123261.000...</td>\n",
       "      <td>2022-08-15</td>\n",
       "    </tr>\n",
       "    <tr>\n",
       "      <th>2</th>\n",
       "      <td>1</td>\n",
       "      <td>POLYGON ((1090261.000 7353123.000, 1092261.000...</td>\n",
       "      <td>2022-08-15</td>\n",
       "    </tr>\n",
       "    <tr>\n",
       "      <th>3</th>\n",
       "      <td>1</td>\n",
       "      <td>POLYGON ((1098261.000 7351123.000, 1100261.000...</td>\n",
       "      <td>2022-08-15</td>\n",
       "    </tr>\n",
       "    <tr>\n",
       "      <th>4</th>\n",
       "      <td>1</td>\n",
       "      <td>POLYGON ((232261.000 7354123.000, 236261.000 7...</td>\n",
       "      <td>2022-08-15</td>\n",
       "    </tr>\n",
       "    <tr>\n",
       "      <th>...</th>\n",
       "      <td>...</td>\n",
       "      <td>...</td>\n",
       "      <td>...</td>\n",
       "    </tr>\n",
       "    <tr>\n",
       "      <th>7757</th>\n",
       "      <td>1</td>\n",
       "      <td>POLYGON ((500261.000 5959123.000, 502261.000 5...</td>\n",
       "      <td>2022-08-15</td>\n",
       "    </tr>\n",
       "    <tr>\n",
       "      <th>7758</th>\n",
       "      <td>1</td>\n",
       "      <td>POLYGON ((553261.000 5993123.000, 555261.000 5...</td>\n",
       "      <td>2022-08-15</td>\n",
       "    </tr>\n",
       "    <tr>\n",
       "      <th>7759</th>\n",
       "      <td>1</td>\n",
       "      <td>POLYGON ((642261.000 5961123.000, 645261.000 5...</td>\n",
       "      <td>2022-08-15</td>\n",
       "    </tr>\n",
       "    <tr>\n",
       "      <th>7760</th>\n",
       "      <td>1</td>\n",
       "      <td>POLYGON ((753261.000 5981123.000, 756261.000 5...</td>\n",
       "      <td>2022-08-15</td>\n",
       "    </tr>\n",
       "    <tr>\n",
       "      <th>7761</th>\n",
       "      <td>1</td>\n",
       "      <td>POLYGON ((994261.000 5968123.000, 997261.000 5...</td>\n",
       "      <td>2022-08-15</td>\n",
       "    </tr>\n",
       "  </tbody>\n",
       "</table>\n",
       "<p>7762 rows × 3 columns</p>\n",
       "</div>"
      ],
      "text/plain": [
       "      class                                           geometry       time\n",
       "0         1  POLYGON ((869261.000 7354123.000, 873261.000 7... 2022-08-15\n",
       "1         1  POLYGON ((1114261.000 7354123.000, 1123261.000... 2022-08-15\n",
       "2         1  POLYGON ((1090261.000 7353123.000, 1092261.000... 2022-08-15\n",
       "3         1  POLYGON ((1098261.000 7351123.000, 1100261.000... 2022-08-15\n",
       "4         1  POLYGON ((232261.000 7354123.000, 236261.000 7... 2022-08-15\n",
       "...     ...                                                ...        ...\n",
       "7757      1  POLYGON ((500261.000 5959123.000, 502261.000 5... 2022-08-15\n",
       "7758      1  POLYGON ((553261.000 5993123.000, 555261.000 5... 2022-08-15\n",
       "7759      1  POLYGON ((642261.000 5961123.000, 645261.000 5... 2022-08-15\n",
       "7760      1  POLYGON ((753261.000 5981123.000, 756261.000 5... 2022-08-15\n",
       "7761      1  POLYGON ((994261.000 5968123.000, 997261.000 5... 2022-08-15\n",
       "\n",
       "[7762 rows x 3 columns]"
      ]
     },
     "execution_count": 76,
     "metadata": {},
     "output_type": "execute_result"
    }
   ],
   "source": []
  },
  {
   "cell_type": "code",
   "execution_count": 60,
   "metadata": {},
   "outputs": [],
   "source": [
    "def generate_filepaths(directory, pattern='', not_pattern='DUMMY_PATTERN',\n",
    "                       pattern_list=[], endswith='',\n",
    "                       only_from_dir=True):\n",
    "    for path, subdir, fids in os.walk(directory):\n",
    "        if only_from_dir:\n",
    "            if path != directory:\n",
    "                continue\n",
    "        # Generator function (uses yield) https://docs.python.org/3/glossary.html#term-generator\n",
    "        for f in fids:\n",
    "            if pattern in f and not_pattern not in f and f.endswith(endswith):\n",
    "                if any(pattern_list):\n",
    "                    for pat in pattern_list:\n",
    "                        if pat in f:\n",
    "                            yield os.path.abspath(os.path.join(path, f))\n",
    "                else:\n",
    "                    yield os.path.abspath(os.path.join(path, f))"
   ]
  },
  {
   "cell_type": "code",
   "execution_count": 63,
   "metadata": {},
   "outputs": [
    {
     "ename": "TypeError",
     "evalue": "expected string or bytes-like object, got 'generator'",
     "output_type": "error",
     "traceback": [
      "\u001b[1;31m---------------------------------------------------------------------------\u001b[0m",
      "\u001b[1;31mTypeError\u001b[0m                                 Traceback (most recent call last)",
      "\u001b[1;32mc:\\Kodning\\Satvis\\src\\satvistest\\dataStructureTest.ipynb Cell 6\u001b[0m line \u001b[0;36m4\n\u001b[0;32m      <a href='vscode-notebook-cell:/c%3A/Kodning/Satvis/src/satvistest/dataStructureTest.ipynb#W0sZmlsZQ%3D%3D?line=0'>1</a>\u001b[0m year \u001b[39m=\u001b[39m \u001b[39m2022\u001b[39m\n\u001b[0;32m      <a href='vscode-notebook-cell:/c%3A/Kodning/Satvis/src/satvistest/dataStructureTest.ipynb#W0sZmlsZQ%3D%3D?line=1'>2</a>\u001b[0m shp_files \u001b[39m=\u001b[39m generate_filepaths(cyano_data_shp, pattern\u001b[39m=\u001b[39myear, endswith\u001b[39m=\u001b[39m\u001b[39m'\u001b[39m\u001b[39m.shp\u001b[39m\u001b[39m'\u001b[39m)\n\u001b[1;32m----> <a href='vscode-notebook-cell:/c%3A/Kodning/Satvis/src/satvistest/dataStructureTest.ipynb#W0sZmlsZQ%3D%3D?line=3'>4</a>\u001b[0m cyano_data \u001b[39m=\u001b[39m gpd\u001b[39m.\u001b[39;49mread_file(shp_files)\n",
      "File \u001b[1;32m~\\AppData\\Local\\miniforge3\\envs\\SatvisTest\\Lib\\site-packages\\geopandas\\io\\file.py:297\u001b[0m, in \u001b[0;36m_read_file\u001b[1;34m(filename, bbox, mask, rows, engine, **kwargs)\u001b[0m\n\u001b[0;32m    294\u001b[0m     \u001b[39melse\u001b[39;00m:\n\u001b[0;32m    295\u001b[0m         path_or_bytes \u001b[39m=\u001b[39m filename\n\u001b[1;32m--> 297\u001b[0m     \u001b[39mreturn\u001b[39;00m _read_file_fiona(\n\u001b[0;32m    298\u001b[0m         path_or_bytes, from_bytes, bbox\u001b[39m=\u001b[39;49mbbox, mask\u001b[39m=\u001b[39;49mmask, rows\u001b[39m=\u001b[39;49mrows, \u001b[39m*\u001b[39;49m\u001b[39m*\u001b[39;49mkwargs\n\u001b[0;32m    299\u001b[0m     )\n\u001b[0;32m    301\u001b[0m \u001b[39melse\u001b[39;00m:\n\u001b[0;32m    302\u001b[0m     \u001b[39mraise\u001b[39;00m \u001b[39mValueError\u001b[39;00m(\u001b[39mf\u001b[39m\u001b[39m\"\u001b[39m\u001b[39munknown engine \u001b[39m\u001b[39m'\u001b[39m\u001b[39m{\u001b[39;00mengine\u001b[39m}\u001b[39;00m\u001b[39m'\u001b[39m\u001b[39m\"\u001b[39m)\n",
      "File \u001b[1;32m~\\AppData\\Local\\miniforge3\\envs\\SatvisTest\\Lib\\site-packages\\geopandas\\io\\file.py:338\u001b[0m, in \u001b[0;36m_read_file_fiona\u001b[1;34m(path_or_bytes, from_bytes, bbox, mask, rows, where, **kwargs)\u001b[0m\n\u001b[0;32m    335\u001b[0m     reader \u001b[39m=\u001b[39m fiona\u001b[39m.\u001b[39mopen\n\u001b[0;32m    337\u001b[0m \u001b[39mwith\u001b[39;00m fiona_env():\n\u001b[1;32m--> 338\u001b[0m     \u001b[39mwith\u001b[39;00m reader(path_or_bytes, \u001b[39m*\u001b[39;49m\u001b[39m*\u001b[39;49mkwargs) \u001b[39mas\u001b[39;00m features:\n\u001b[0;32m    339\u001b[0m         crs \u001b[39m=\u001b[39m features\u001b[39m.\u001b[39mcrs_wkt\n\u001b[0;32m    340\u001b[0m         \u001b[39m# attempt to get EPSG code\u001b[39;00m\n",
      "File \u001b[1;32m~\\AppData\\Local\\miniforge3\\envs\\SatvisTest\\Lib\\site-packages\\fiona\\env.py:457\u001b[0m, in \u001b[0;36mensure_env_with_credentials.<locals>.wrapper\u001b[1;34m(*args, **kwds)\u001b[0m\n\u001b[0;32m    454\u001b[0m     session \u001b[39m=\u001b[39m DummySession()\n\u001b[0;32m    456\u001b[0m \u001b[39mwith\u001b[39;00m env_ctor(session\u001b[39m=\u001b[39msession):\n\u001b[1;32m--> 457\u001b[0m     \u001b[39mreturn\u001b[39;00m f(\u001b[39m*\u001b[39;49margs, \u001b[39m*\u001b[39;49m\u001b[39m*\u001b[39;49mkwds)\n",
      "File \u001b[1;32m~\\AppData\\Local\\miniforge3\\envs\\SatvisTest\\Lib\\site-packages\\fiona\\__init__.py:289\u001b[0m, in \u001b[0;36mopen\u001b[1;34m(fp, mode, driver, schema, crs, encoding, layer, vfs, enabled_drivers, crs_wkt, allow_unsupported_drivers, **kwargs)\u001b[0m\n\u001b[0;32m    287\u001b[0m     path \u001b[39m=\u001b[39m ParsedPath(path, archive, scheme)\n\u001b[0;32m    288\u001b[0m \u001b[39melse\u001b[39;00m:\n\u001b[1;32m--> 289\u001b[0m     path \u001b[39m=\u001b[39m parse_path(fp)\n\u001b[0;32m    291\u001b[0m \u001b[39mif\u001b[39;00m mode \u001b[39min\u001b[39;00m (\u001b[39m\"\u001b[39m\u001b[39ma\u001b[39m\u001b[39m\"\u001b[39m, \u001b[39m\"\u001b[39m\u001b[39mr\u001b[39m\u001b[39m\"\u001b[39m):\n\u001b[0;32m    292\u001b[0m     colxn \u001b[39m=\u001b[39m Collection(\n\u001b[0;32m    293\u001b[0m         path,\n\u001b[0;32m    294\u001b[0m         mode,\n\u001b[1;32m   (...)\u001b[0m\n\u001b[0;32m    300\u001b[0m         \u001b[39m*\u001b[39m\u001b[39m*\u001b[39mkwargs\n\u001b[0;32m    301\u001b[0m     )\n",
      "File \u001b[1;32m~\\AppData\\Local\\miniforge3\\envs\\SatvisTest\\Lib\\site-packages\\fiona\\path.py:133\u001b[0m, in \u001b[0;36mparse_path\u001b[1;34m(path)\u001b[0m\n\u001b[0;32m    129\u001b[0m     \u001b[39mreturn\u001b[39;00m path\n\u001b[0;32m    131\u001b[0m \u001b[39m# Windows drive letters (e.g. \"C:\\\") confuse `urlparse` as they look like\u001b[39;00m\n\u001b[0;32m    132\u001b[0m \u001b[39m# URL schemes\u001b[39;00m\n\u001b[1;32m--> 133\u001b[0m \u001b[39melif\u001b[39;00m sys\u001b[39m.\u001b[39mplatform \u001b[39m==\u001b[39m \u001b[39m\"\u001b[39m\u001b[39mwin32\u001b[39m\u001b[39m\"\u001b[39m \u001b[39mand\u001b[39;00m re\u001b[39m.\u001b[39;49mmatch(\u001b[39m\"\u001b[39;49m\u001b[39m^[a-zA-Z]\u001b[39;49m\u001b[39m\\\\\u001b[39;49;00m\u001b[39m:\u001b[39;49m\u001b[39m\"\u001b[39;49m, path):\n\u001b[0;32m    134\u001b[0m     \u001b[39mreturn\u001b[39;00m UnparsedPath(path)\n\u001b[0;32m    136\u001b[0m \u001b[39melif\u001b[39;00m path\u001b[39m.\u001b[39mstartswith(\u001b[39m'\u001b[39m\u001b[39m/vsi\u001b[39m\u001b[39m'\u001b[39m):\n",
      "File \u001b[1;32m~\\AppData\\Local\\miniforge3\\envs\\SatvisTest\\Lib\\re\\__init__.py:167\u001b[0m, in \u001b[0;36mmatch\u001b[1;34m(pattern, string, flags)\u001b[0m\n\u001b[0;32m    164\u001b[0m \u001b[39mdef\u001b[39;00m \u001b[39mmatch\u001b[39m(pattern, string, flags\u001b[39m=\u001b[39m\u001b[39m0\u001b[39m):\n\u001b[0;32m    165\u001b[0m \u001b[39m    \u001b[39m\u001b[39m\"\"\"Try to apply the pattern at the start of the string, returning\u001b[39;00m\n\u001b[0;32m    166\u001b[0m \u001b[39m    a Match object, or None if no match was found.\"\"\"\u001b[39;00m\n\u001b[1;32m--> 167\u001b[0m     \u001b[39mreturn\u001b[39;00m _compile(pattern, flags)\u001b[39m.\u001b[39;49mmatch(string)\n",
      "\u001b[1;31mTypeError\u001b[0m: expected string or bytes-like object, got 'generator'"
     ]
    }
   ],
   "source": [
    "year = 2022\n",
    "data_files = generate_filepaths(cyano_data_shp, pattern=year, endswith='.shp')\n",
    "geodataframes = []\n",
    "\n",
    "for cyano_data_file in data_files:\n",
    "    gdf = gpd.read_file(cyano_data_file)\n",
    "    # filename = os.path.basename(cyano_data_file)\n",
    "    file_ts = pd.Timestamp(os.path.basename(cyano_data_file).split('.')[0].split('_')[-1])\n",
    "    date = pd.to_datetime(file_ts)\n",
    "    gdf = xr.Dataset.from_dataframe(gdf)\n",
    "    ds = ds.assign_coords(time=date)\n",
    "    # ds['geometry'] = xr.DataArray(geometry, dims=['index'])\n",
    "    # Tried but doesn't work\n",
    "    # ds = ds.assign_attrs(crs='epsg:3006', description='Dataset projection')\n",
    "    datasets.append(ds)\n",
    "ds_all = xr.concat(datasets, dim='time')"
   ]
  },
  {
   "cell_type": "markdown",
   "metadata": {},
   "source": [
    "# Basin data\n",
    "Creates the GeoPackage file 'basins.gpkg' containing SVAR BASIN_NR numeration, geometry and basin_name for the sub-basins of the Baltic Sea according to Havsomr_SVAR_2016_3b"
   ]
  },
  {
   "cell_type": "code",
   "execution_count": 37,
   "metadata": {},
   "outputs": [],
   "source": [
    "basin_mapping_SVAR = {\n",
    "    1: 'Bottenviken',\n",
    "    2: 'Norra Kvarken',\n",
    "    3: 'Bottenhavet',\n",
    "    4: 'Ålands hav',\n",
    "    5: 'Skärgårdshavet',\n",
    "    6: 'Finska viken',\n",
    "    7: 'Norra Gotlandshavet',\n",
    "    8: 'Västra Gotlandshavet',\n",
    "    9: 'Östra Gotlandshavet',\n",
    "    10: 'Rigabukten',\n",
    "    11: 'Gdanskbukten',\n",
    "    12: 'Bornholmshavet och Hanöbukten',\n",
    "    13: 'Arkonahavet och Södra Öresund',\n",
    "    14: 'Bälthavet',\n",
    "    15: 'Öresund',\n",
    "    16: 'Kattegatt',\n",
    "    17: 'Skagerrak',\n",
    "}"
   ]
  },
  {
   "cell_type": "code",
   "execution_count": 47,
   "metadata": {},
   "outputs": [],
   "source": [
    "gdf_basin = gpd.read_file(sub_basin_shp)\n",
    "basin_geometries = gdf_basin[['BASIN_NR', 'geometry']]\n",
    "basin_data = basin_geometries.dissolve(by='BASIN_NR', as_index=True)\n",
    "basin_data['basin_name'] = [basin_mapping_SVAR[item] for item in basin_data.index]"
   ]
  },
  {
   "cell_type": "code",
   "execution_count": 48,
   "metadata": {},
   "outputs": [
    {
     "data": {
      "text/html": [
       "<div>\n",
       "<style scoped>\n",
       "    .dataframe tbody tr th:only-of-type {\n",
       "        vertical-align: middle;\n",
       "    }\n",
       "\n",
       "    .dataframe tbody tr th {\n",
       "        vertical-align: top;\n",
       "    }\n",
       "\n",
       "    .dataframe thead th {\n",
       "        text-align: right;\n",
       "    }\n",
       "</style>\n",
       "<table border=\"1\" class=\"dataframe\">\n",
       "  <thead>\n",
       "    <tr style=\"text-align: right;\">\n",
       "      <th></th>\n",
       "      <th>geometry</th>\n",
       "      <th>basin_name</th>\n",
       "    </tr>\n",
       "    <tr>\n",
       "      <th>BASIN_NR</th>\n",
       "      <th></th>\n",
       "      <th></th>\n",
       "    </tr>\n",
       "  </thead>\n",
       "  <tbody>\n",
       "    <tr>\n",
       "      <th>1</th>\n",
       "      <td>POLYGON ((788351.558 7113779.095, 788331.895 7...</td>\n",
       "      <td>Bottenviken</td>\n",
       "    </tr>\n",
       "    <tr>\n",
       "      <th>2</th>\n",
       "      <td>POLYGON ((743322.192 7034002.034, 735055.884 7...</td>\n",
       "      <td>Norra Kvarken</td>\n",
       "    </tr>\n",
       "    <tr>\n",
       "      <th>3</th>\n",
       "      <td>POLYGON ((620922.743 6729219.402, 620757.133 6...</td>\n",
       "      <td>Bottenhavet</td>\n",
       "    </tr>\n",
       "    <tr>\n",
       "      <th>4</th>\n",
       "      <td>POLYGON ((709486.835 6669336.804, 709413.026 6...</td>\n",
       "      <td>Ålands hav</td>\n",
       "    </tr>\n",
       "    <tr>\n",
       "      <th>5</th>\n",
       "      <td>POLYGON ((941642.960 6656019.222, 941484.624 6...</td>\n",
       "      <td>Skärgårdshavet</td>\n",
       "    </tr>\n",
       "    <tr>\n",
       "      <th>6</th>\n",
       "      <td>POLYGON ((984634.061 6596697.898, 984670.443 6...</td>\n",
       "      <td>Finska viken</td>\n",
       "    </tr>\n",
       "    <tr>\n",
       "      <th>7</th>\n",
       "      <td>POLYGON ((693957.780 6565996.762, 693875.447 6...</td>\n",
       "      <td>Norra Gotlandshavet</td>\n",
       "    </tr>\n",
       "    <tr>\n",
       "      <th>8</th>\n",
       "      <td>POLYGON ((549687.035 6208329.209, 549711.191 6...</td>\n",
       "      <td>Västra Gotlandshavet</td>\n",
       "    </tr>\n",
       "    <tr>\n",
       "      <th>9</th>\n",
       "      <td>POLYGON ((706381.131 6322005.715, 706379.902 6...</td>\n",
       "      <td>Östra Gotlandshavet</td>\n",
       "    </tr>\n",
       "    <tr>\n",
       "      <th>10</th>\n",
       "      <td>POLYGON ((899983.436 6399829.630, 899925.798 6...</td>\n",
       "      <td>Rigabukten</td>\n",
       "    </tr>\n",
       "    <tr>\n",
       "      <th>11</th>\n",
       "      <td>POLYGON ((876400.422 6233011.174, 876417.638 6...</td>\n",
       "      <td>Gdanskbukten</td>\n",
       "    </tr>\n",
       "    <tr>\n",
       "      <th>12</th>\n",
       "      <td>POLYGON ((449029.888 6137863.106, 449177.826 6...</td>\n",
       "      <td>Bornholmshavet och Hanöbukten</td>\n",
       "    </tr>\n",
       "    <tr>\n",
       "      <th>13</th>\n",
       "      <td>POLYGON ((481318.883 6119581.967, 481446.816 6...</td>\n",
       "      <td>Arkonahavet och Södra Öresund</td>\n",
       "    </tr>\n",
       "    <tr>\n",
       "      <th>14</th>\n",
       "      <td>POLYGON ((298521.213 6069137.591, 298403.556 6...</td>\n",
       "      <td>Bälthavet</td>\n",
       "    </tr>\n",
       "    <tr>\n",
       "      <th>15</th>\n",
       "      <td>POLYGON ((376430.191 6167666.036, 376547.687 6...</td>\n",
       "      <td>Öresund</td>\n",
       "    </tr>\n",
       "    <tr>\n",
       "      <th>16</th>\n",
       "      <td>POLYGON ((337785.431 6235374.032, 337723.397 6...</td>\n",
       "      <td>Kattegatt</td>\n",
       "    </tr>\n",
       "    <tr>\n",
       "      <th>17</th>\n",
       "      <td>POLYGON ((280602.886 6476436.612, 280524.982 6...</td>\n",
       "      <td>Skagerrak</td>\n",
       "    </tr>\n",
       "  </tbody>\n",
       "</table>\n",
       "</div>"
      ],
      "text/plain": [
       "                                                   geometry  \\\n",
       "BASIN_NR                                                      \n",
       "1         POLYGON ((788351.558 7113779.095, 788331.895 7...   \n",
       "2         POLYGON ((743322.192 7034002.034, 735055.884 7...   \n",
       "3         POLYGON ((620922.743 6729219.402, 620757.133 6...   \n",
       "4         POLYGON ((709486.835 6669336.804, 709413.026 6...   \n",
       "5         POLYGON ((941642.960 6656019.222, 941484.624 6...   \n",
       "6         POLYGON ((984634.061 6596697.898, 984670.443 6...   \n",
       "7         POLYGON ((693957.780 6565996.762, 693875.447 6...   \n",
       "8         POLYGON ((549687.035 6208329.209, 549711.191 6...   \n",
       "9         POLYGON ((706381.131 6322005.715, 706379.902 6...   \n",
       "10        POLYGON ((899983.436 6399829.630, 899925.798 6...   \n",
       "11        POLYGON ((876400.422 6233011.174, 876417.638 6...   \n",
       "12        POLYGON ((449029.888 6137863.106, 449177.826 6...   \n",
       "13        POLYGON ((481318.883 6119581.967, 481446.816 6...   \n",
       "14        POLYGON ((298521.213 6069137.591, 298403.556 6...   \n",
       "15        POLYGON ((376430.191 6167666.036, 376547.687 6...   \n",
       "16        POLYGON ((337785.431 6235374.032, 337723.397 6...   \n",
       "17        POLYGON ((280602.886 6476436.612, 280524.982 6...   \n",
       "\n",
       "                             basin_name  \n",
       "BASIN_NR                                 \n",
       "1                           Bottenviken  \n",
       "2                         Norra Kvarken  \n",
       "3                           Bottenhavet  \n",
       "4                            Ålands hav  \n",
       "5                        Skärgårdshavet  \n",
       "6                          Finska viken  \n",
       "7                   Norra Gotlandshavet  \n",
       "8                  Västra Gotlandshavet  \n",
       "9                   Östra Gotlandshavet  \n",
       "10                           Rigabukten  \n",
       "11                         Gdanskbukten  \n",
       "12        Bornholmshavet och Hanöbukten  \n",
       "13        Arkonahavet och Södra Öresund  \n",
       "14                            Bälthavet  \n",
       "15                              Öresund  \n",
       "16                            Kattegatt  \n",
       "17                            Skagerrak  "
      ]
     },
     "execution_count": 48,
     "metadata": {},
     "output_type": "execute_result"
    }
   ],
   "source": [
    "basin_data"
   ]
  },
  {
   "cell_type": "code",
   "execution_count": 53,
   "metadata": {},
   "outputs": [],
   "source": [
    "basin_data.to_file('basins.gpkg')"
   ]
  },
  {
   "cell_type": "markdown",
   "metadata": {},
   "source": [
    "# Aggregate data"
   ]
  },
  {
   "cell_type": "code",
   "execution_count": 54,
   "metadata": {},
   "outputs": [],
   "source": [
    "basins = gpd.read_file('basins.gpkg')"
   ]
  },
  {
   "cell_type": "code",
   "execution_count": 55,
   "metadata": {},
   "outputs": [
    {
     "data": {
      "text/plain": [
       "<Projected CRS: EPSG:3006>\n",
       "Name: SWEREF99 TM\n",
       "Axis Info [cartesian]:\n",
       "- N[north]: Northing (metre)\n",
       "- E[east]: Easting (metre)\n",
       "Area of Use:\n",
       "- name: Sweden - onshore and offshore.\n",
       "- bounds: (10.03, 54.96, 24.17, 69.07)\n",
       "Coordinate Operation:\n",
       "- name: SWEREF99 TM\n",
       "- method: Transverse Mercator\n",
       "Datum: SWEREF99\n",
       "- Ellipsoid: GRS 1980\n",
       "- Prime Meridian: Greenwich"
      ]
     },
     "execution_count": 55,
     "metadata": {},
     "output_type": "execute_result"
    }
   ],
   "source": [
    "basins.crs"
   ]
  },
  {
   "cell_type": "markdown",
   "metadata": {},
   "source": [
    "# Tests"
   ]
  },
  {
   "cell_type": "code",
   "execution_count": null,
   "metadata": {},
   "outputs": [],
   "source": [
    "daygdf = gpd.read_file('data/aggregation_2022.shp')"
   ]
  },
  {
   "cell_type": "code",
   "execution_count": null,
   "metadata": {},
   "outputs": [
    {
     "data": {
      "text/plain": [
       "37"
      ]
     },
     "metadata": {},
     "output_type": "display_data"
    }
   ],
   "source": [
    "daygdf"
   ]
  },
  {
   "cell_type": "code",
   "execution_count": null,
   "metadata": {},
   "outputs": [
    {
     "data": {
      "text/plain": [
       "245094.0"
      ]
     },
     "metadata": {},
     "output_type": "display_data"
    }
   ],
   "source": [
    "total_area = daygdf.area.sum() / 1000000.\n",
    "total_area"
   ]
  },
  {
   "cell_type": "code",
   "execution_count": null,
   "metadata": {},
   "outputs": [],
   "source": [
    "area_days = []"
   ]
  },
  {
   "cell_type": "code",
   "execution_count": null,
   "metadata": {},
   "outputs": [],
   "source": [
    "for n in daygdf['class'].unique():\n",
    "    boolean = daygdf['class'] == n\n",
    "    area_days.append(daygdf.loc[boolean, :].area.sum() / 1000000. * n)"
   ]
  },
  {
   "cell_type": "code",
   "execution_count": null,
   "metadata": {},
   "outputs": [
    {
     "data": {
      "text/plain": [
       "64089.0"
      ]
     },
     "metadata": {},
     "output_type": "display_data"
    }
   ],
   "source": [
    "boolean = daygdf['class'] == 3\n",
    "daygdf.loc[boolean, :].area.sum() / 1000000 * 3."
   ]
  },
  {
   "cell_type": "code",
   "execution_count": null,
   "metadata": {},
   "outputs": [
    {
     "data": {
      "text/plain": [
       "array([ 2,  1,  3,  4,  5,  6,  7,  8,  9, 10, 11, 12, 13, 14, 15, 16, 17,\n",
       "       19, 18, 20, 21, 22, 23, 25, 24, 26, 27, 28, 29, 30, 31, 33, 32, 35,\n",
       "       34, 36, 37], dtype=int64)"
      ]
     },
     "metadata": {},
     "output_type": "display_data"
    }
   ],
   "source": [
    "daygdf['class'].unique()"
   ]
  },
  {
   "cell_type": "code",
   "execution_count": null,
   "metadata": {},
   "outputs": [],
   "source": [
    "boolean = daygdf['class'] == 2"
   ]
  },
  {
   "cell_type": "code",
   "execution_count": null,
   "metadata": {},
   "outputs": [
    {
     "data": {
      "text/plain": [
       "[44884.0,\n",
       " 26332.0,\n",
       " 64089.0,\n",
       " 72188.0,\n",
       " 75740.0,\n",
       " 81672.0,\n",
       " 92106.0,\n",
       " 103728.0,\n",
       " 115893.0,\n",
       " 122950.0,\n",
       " 123827.0,\n",
       " 118776.0,\n",
       " 113100.0,\n",
       " 107310.0,\n",
       " 105735.0,\n",
       " 101840.0,\n",
       " 92531.0,\n",
       " 62624.0,\n",
       " 80946.0,\n",
       " 51880.0,\n",
       " 41160.0,\n",
       " 34210.0,\n",
       " 29348.0,\n",
       " 26800.0,\n",
       " 28056.0,\n",
       " 24570.0,\n",
       " 21303.0,\n",
       " 15344.0,\n",
       " 9280.0,\n",
       " 5700.0,\n",
       " 4495.0,\n",
       " 858.0,\n",
       " 2144.0,\n",
       " 385.0,\n",
       " 340.0,\n",
       " 180.0,\n",
       " 74.0]"
      ]
     },
     "metadata": {},
     "output_type": "display_data"
    }
   ],
   "source": [
    " area_days"
   ]
  },
  {
   "cell_type": "code",
   "execution_count": null,
   "metadata": {},
   "outputs": [
    {
     "data": {
      "text/plain": [
       "30872000000.0"
      ]
     },
     "metadata": {},
     "output_type": "display_data"
    }
   ],
   "source": [
    "daygdf.loc[boolean, :].area.sum()"
   ]
  },
  {
   "cell_type": "code",
   "execution_count": null,
   "metadata": {},
   "outputs": [
    {
     "data": {
      "text/plain": [
       "1.0734599205706847"
      ]
     },
     "metadata": {},
     "output_type": "display_data"
    }
   ],
   "source": [
    "sum(area_days) / float(total_area)"
   ]
  },
  {
   "cell_type": "markdown",
   "metadata": {},
   "source": [
    "$\\displaystyle a_i$ is equal to the extent that is covered by surface accumulations of cyanobacteria during ($\\displaystyle i$) number of days\n",
    "\n",
    "$\\displaystyle A = \\frac{\\sum a_i \\times i}{\\sum i} =$ Normalized extent of cyanobacteria bloom\n",
    "\n",
    "$\\displaystyle T = \\frac{\\sum a_i \\times i}{\\sum a_i} =$ Normalized duration of cyanobacteria bloom\n",
    "\n",
    "$\\displaystyle I = A \\times T =$ Normalized intensity of cyanobacteria bloom"
   ]
  }
 ],
 "metadata": {
  "kernelspec": {
   "display_name": "Python [conda env:SatvisTest]",
   "language": "python",
   "name": "conda-env-SatvisTest-py"
  },
  "language_info": {
   "codemirror_mode": {
    "name": "ipython",
    "version": 3
   },
   "file_extension": ".py",
   "mimetype": "text/x-python",
   "name": "python",
   "nbconvert_exporter": "python",
   "pygments_lexer": "ipython3",
   "version": "3.12.2"
  }
 },
 "nbformat": 4,
 "nbformat_minor": 2
}
